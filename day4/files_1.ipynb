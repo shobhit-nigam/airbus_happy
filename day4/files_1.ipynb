{
 "cells": [
  {
   "cell_type": "code",
   "execution_count": 2,
   "metadata": {},
   "outputs": [],
   "source": [
    "fa = open(\"lotr.txt\", \"r\")"
   ]
  },
  {
   "cell_type": "code",
   "execution_count": 3,
   "metadata": {},
   "outputs": [
    {
     "name": "stdout",
     "output_type": "stream",
     "text": [
      "<class '_io.TextIOWrapper'>\n"
     ]
    }
   ],
   "source": [
    "print(type(fa))"
   ]
  },
  {
   "cell_type": "code",
   "execution_count": 4,
   "metadata": {},
   "outputs": [
    {
     "name": "stdout",
     "output_type": "stream",
     "text": [
      "frod\n"
     ]
    }
   ],
   "source": [
    "stra = fa.read(4)\n",
    "\n",
    "print(stra)"
   ]
  },
  {
   "cell_type": "code",
   "execution_count": 5,
   "metadata": {},
   "outputs": [
    {
     "name": "stdout",
     "output_type": "stream",
     "text": [
      "o ba\n"
     ]
    }
   ],
   "source": [
    "stra = fa.read(4)\n",
    "\n",
    "print(stra)"
   ]
  },
  {
   "cell_type": "code",
   "execution_count": 6,
   "metadata": {},
   "outputs": [
    {
     "name": "stdout",
     "output_type": "stream",
     "text": [
      "ggins\n",
      "le\n"
     ]
    }
   ],
   "source": [
    "strb = fa.read(8) \n",
    "print(strb)"
   ]
  },
  {
   "cell_type": "code",
   "execution_count": 7,
   "metadata": {},
   "outputs": [
    {
     "data": {
      "text/plain": [
       "'ggins\\nle'"
      ]
     },
     "execution_count": 7,
     "metadata": {},
     "output_type": "execute_result"
    }
   ],
   "source": [
    "strb"
   ]
  },
  {
   "cell_type": "code",
   "execution_count": 8,
   "metadata": {},
   "outputs": [
    {
     "name": "stdout",
     "output_type": "stream",
     "text": [
      "golas\n",
      "gandalf the wizard\n",
      "aragorn\n",
      "\n"
     ]
    }
   ],
   "source": [
    "strc = fa.read()\n",
    "print(strc)"
   ]
  },
  {
   "cell_type": "code",
   "execution_count": 9,
   "metadata": {},
   "outputs": [
    {
     "data": {
      "text/plain": [
       "''"
      ]
     },
     "execution_count": 9,
     "metadata": {},
     "output_type": "execute_result"
    }
   ],
   "source": [
    "fa.read()"
   ]
  },
  {
   "cell_type": "code",
   "execution_count": 10,
   "metadata": {},
   "outputs": [],
   "source": [
    "fa.close()"
   ]
  },
  {
   "cell_type": "code",
   "execution_count": 11,
   "metadata": {},
   "outputs": [
    {
     "ename": "ValueError",
     "evalue": "I/O operation on closed file.",
     "output_type": "error",
     "traceback": [
      "\u001b[0;31m---------------------------------------------------------------------------\u001b[0m",
      "\u001b[0;31mValueError\u001b[0m                                Traceback (most recent call last)",
      "\u001b[0;32m<ipython-input-11-11748048e947>\u001b[0m in \u001b[0;36m<module>\u001b[0;34m\u001b[0m\n\u001b[0;32m----> 1\u001b[0;31m \u001b[0mfa\u001b[0m\u001b[0;34m.\u001b[0m\u001b[0mread\u001b[0m\u001b[0;34m(\u001b[0m\u001b[0;34m)\u001b[0m\u001b[0;34m\u001b[0m\u001b[0;34m\u001b[0m\u001b[0m\n\u001b[0m",
      "\u001b[0;31mValueError\u001b[0m: I/O operation on closed file."
     ]
    }
   ],
   "source": [
    "fa.read()"
   ]
  },
  {
   "cell_type": "code",
   "execution_count": 12,
   "metadata": {},
   "outputs": [
    {
     "data": {
      "text/plain": [
       "True"
      ]
     },
     "execution_count": 12,
     "metadata": {},
     "output_type": "execute_result"
    }
   ],
   "source": [
    "fa.closed"
   ]
  },
  {
   "cell_type": "code",
   "execution_count": 13,
   "metadata": {},
   "outputs": [
    {
     "data": {
      "text/plain": [
       "True"
      ]
     },
     "execution_count": 13,
     "metadata": {},
     "output_type": "execute_result"
    }
   ],
   "source": [
    "fa = open(\"lotr.txt\", \"r\")\n",
    "fa.readable()"
   ]
  },
  {
   "cell_type": "code",
   "execution_count": 14,
   "metadata": {},
   "outputs": [
    {
     "data": {
      "text/plain": [
       "False"
      ]
     },
     "execution_count": 14,
     "metadata": {},
     "output_type": "execute_result"
    }
   ],
   "source": [
    "fa.writable()"
   ]
  },
  {
   "cell_type": "code",
   "execution_count": 15,
   "metadata": {},
   "outputs": [
    {
     "data": {
      "text/plain": [
       "['frodo baggins\\n', 'legolas\\n', 'gandalf the wizard\\n', 'aragorn']"
      ]
     },
     "execution_count": 15,
     "metadata": {},
     "output_type": "execute_result"
    }
   ],
   "source": [
    "lista = fa.readlines()\n",
    "\n",
    "lista"
   ]
  },
  {
   "cell_type": "code",
   "execution_count": 16,
   "metadata": {},
   "outputs": [
    {
     "data": {
      "text/plain": [
       "48"
      ]
     },
     "execution_count": 16,
     "metadata": {},
     "output_type": "execute_result"
    }
   ],
   "source": [
    "fa.tell()"
   ]
  },
  {
   "cell_type": "code",
   "execution_count": 17,
   "metadata": {},
   "outputs": [
    {
     "data": {
      "text/plain": [
       "0"
      ]
     },
     "execution_count": 17,
     "metadata": {},
     "output_type": "execute_result"
    }
   ],
   "source": [
    "fa.seek(0)"
   ]
  },
  {
   "cell_type": "code",
   "execution_count": 18,
   "metadata": {},
   "outputs": [
    {
     "name": "stdout",
     "output_type": "stream",
     "text": [
      "frodo baggins\n",
      "legolas\n",
      "gandalf the wizard\n",
      "aragorn\n"
     ]
    }
   ],
   "source": [
    "strd = fa.read()\n",
    "\n",
    "print(strd)"
   ]
  },
  {
   "cell_type": "code",
   "execution_count": 19,
   "metadata": {},
   "outputs": [
    {
     "data": {
      "text/plain": [
       "['frodo', 'baggins', 'legolas', 'gandalf', 'the', 'wizard', 'aragorn']"
      ]
     },
     "execution_count": 19,
     "metadata": {},
     "output_type": "execute_result"
    }
   ],
   "source": [
    "strd.split()"
   ]
  },
  {
   "cell_type": "code",
   "execution_count": 20,
   "metadata": {},
   "outputs": [
    {
     "data": {
      "text/plain": [
       "['frodo baggins', 'legolas', 'gandalf the wizard', 'aragorn']"
      ]
     },
     "execution_count": 20,
     "metadata": {},
     "output_type": "execute_result"
    }
   ],
   "source": [
    "strd.splitlines()"
   ]
  },
  {
   "cell_type": "code",
   "execution_count": 21,
   "metadata": {},
   "outputs": [
    {
     "data": {
      "text/plain": [
       "['le', 'olas']"
      ]
     },
     "execution_count": 21,
     "metadata": {},
     "output_type": "execute_result"
    }
   ],
   "source": [
    "'legolas'.split(\"g\")"
   ]
  },
  {
   "cell_type": "code",
   "execution_count": 22,
   "metadata": {},
   "outputs": [],
   "source": [
    "liste = ['frodo', 'baggins', 'legolas', 'gandalf', 'the', 'wizard', 'aragorn']"
   ]
  },
  {
   "cell_type": "code",
   "execution_count": 23,
   "metadata": {},
   "outputs": [],
   "source": [
    "fa.close()"
   ]
  },
  {
   "cell_type": "code",
   "execution_count": 24,
   "metadata": {},
   "outputs": [],
   "source": [
    "fe = open(\"lotr2.txt\", \"w\") \n",
    "\n",
    "for val in liste:\n",
    "    fe.write(val)\n",
    "    fe.write(\"\\n\")"
   ]
  },
  {
   "cell_type": "code",
   "execution_count": 25,
   "metadata": {},
   "outputs": [],
   "source": [
    "fe.close()"
   ]
  },
  {
   "cell_type": "code",
   "execution_count": 26,
   "metadata": {},
   "outputs": [],
   "source": [
    "fa = open(\"lotr.txt\", \"r\")\n",
    "stra = fa.read()\n",
    "# work with the file \n",
    "fa.close()\n",
    "# work with the data"
   ]
  },
  {
   "cell_type": "code",
   "execution_count": 27,
   "metadata": {},
   "outputs": [],
   "source": [
    "with open(\"lotr.txt\", \"r\") as fa:\n",
    "    stra = fa.read()\n",
    "    # work with the file \n",
    "    \n",
    "# work with the data"
   ]
  },
  {
   "cell_type": "code",
   "execution_count": 28,
   "metadata": {},
   "outputs": [
    {
     "data": {
      "text/plain": [
       "True"
      ]
     },
     "execution_count": 28,
     "metadata": {},
     "output_type": "execute_result"
    }
   ],
   "source": [
    "fa.closed"
   ]
  },
  {
   "cell_type": "code",
   "execution_count": 29,
   "metadata": {},
   "outputs": [
    {
     "name": "stdout",
     "output_type": "stream",
     "text": [
      "23 hu 56 tty\n",
      "-----\n",
      "78 cf 12 lou\n",
      "-----\n",
      "45 wq 94 bht\n",
      "-----\n",
      "78 xd 33 vty\n",
      "-----\n",
      "32 vg 17 cft\n",
      "-----\n",
      "67 jk 35 gth\n",
      "-----\n"
     ]
    }
   ],
   "source": [
    "fa = open(\"data.txt\", \"r\")\n",
    "\n",
    "stra = fa.read()\n",
    "fa.close()\n",
    "\n",
    "lista = stra.splitlines()\n",
    "\n",
    "for line in lista:\n",
    "    print(line)\n",
    "    print(\"-----\")"
   ]
  },
  {
   "cell_type": "code",
   "execution_count": 30,
   "metadata": {},
   "outputs": [
    {
     "name": "stdout",
     "output_type": "stream",
     "text": [
      "['23 hu 56 tty', '78 cf 12 lou', '45 wq 94 bht', '78 xd 33 vty', '32 vg 17 cft', '67 jk 35 gth']\n",
      "23 hu 56 tty\n",
      "-----\n",
      "78 cf 12 lou\n",
      "-----\n",
      "45 wq 94 bht\n",
      "-----\n",
      "78 xd 33 vty\n",
      "-----\n",
      "32 vg 17 cft\n",
      "-----\n",
      "67 jk 35 gth\n",
      "-----\n"
     ]
    }
   ],
   "source": [
    "fa = open(\"data.txt\", \"r\")\n",
    "\n",
    "stra = fa.read()\n",
    "fa.close()\n",
    "\n",
    "lista = stra.splitlines()\n",
    "\n",
    "print(lista)\n",
    "\n",
    "for line in lista:\n",
    "    \n",
    "    print(line)\n",
    "    print(\"-----\")"
   ]
  },
  {
   "cell_type": "code",
   "execution_count": 32,
   "metadata": {
    "scrolled": true
   },
   "outputs": [
    {
     "name": "stdout",
     "output_type": "stream",
     "text": [
      "['23', 'hu', '56', 'tty']\n",
      "-----\n",
      "['78', 'cf', '12', 'lou']\n",
      "-----\n",
      "['45', 'wq', '94', 'bht']\n",
      "-----\n",
      "['78', 'xd', '33', 'vty']\n",
      "-----\n",
      "['32', 'vg', '17', 'cft']\n",
      "-----\n",
      "['67', 'jk', '35', 'gth']\n",
      "-----\n"
     ]
    }
   ],
   "source": [
    "fa = open(\"data.txt\", \"r\")\n",
    "\n",
    "stra = fa.read()\n",
    "fa.close()\n",
    "\n",
    "lista = stra.splitlines()\n",
    "\n",
    "for line in lista:\n",
    "    temp = line.split()\n",
    "    print(temp)\n",
    "    "
   ]
  },
  {
   "cell_type": "code",
   "execution_count": 33,
   "metadata": {},
   "outputs": [
    {
     "name": "stdout",
     "output_type": "stream",
     "text": [
      "['hu', 'cf', 'wq', 'xd', 'vg', 'jk']\n"
     ]
    }
   ],
   "source": [
    "fa = open(\"data.txt\", \"r\")\n",
    "\n",
    "stra = fa.read()\n",
    "fa.close()\n",
    "\n",
    "lista = stra.splitlines()\n",
    "\n",
    "list_col = []\n",
    "\n",
    "for line in lista:\n",
    "    temp = line.split()\n",
    "    list_col.append(temp[1])\n",
    "    \n",
    "print(list_col)"
   ]
  },
  {
   "cell_type": "code",
   "execution_count": 39,
   "metadata": {},
   "outputs": [],
   "source": [
    "class fileops:\n",
    "    \"\"\"for working with files\"\"\"\n",
    "\n",
    "    def __init__(self, n):\n",
    "        self.name = n\n",
    "        import os\n",
    "        \n",
    "        if not os.path.exists(self.name):\n",
    "            print(\"check the file name\")\n",
    "        \n",
    "    def read_col(self, num):\n",
    "        \"\"\"reads a particular column from the opened text file\n",
    "        mention the column number, zero will be assumed by default\"\"\"\n",
    "        \n",
    "        with open(self.name, \"r\") as fa:\n",
    "            stra = fa.read()\n",
    "            \n",
    "        lista = stra.splitlines()\n",
    "        list_col = []\n",
    "\n",
    "        for line in lista:\n",
    "            temp = line.split()\n",
    "            list_col.append(temp[num])\n",
    "        return list_col\n",
    "    \n",
    "    def read_col_num(self, num):\n",
    "        \"\"\"reads a particular column from the opened text file\n",
    "        mention the column number, zero will be assumed by default\"\"\"\n",
    "        \n",
    "        with open(self.name, \"r\") as fa:\n",
    "            stra = fa.read()\n",
    "            \n",
    "        lista = stra.splitlines()\n",
    "        list_col = []\n",
    "\n",
    "        for line in lista:\n",
    "            temp = line.split()\n",
    "            list_col.append(int(temp[num])) \n",
    "        return list_col\n",
    "    \n",
    "    def concert_to_csv(self):\n",
    "        self.new_name = self.name.replace(\".txt\", \".csv\")\n",
    "        with open(self.name, \"r\") as fa:\n",
    "            stra = fa.read()\n",
    "        with open(self.new_name, \"w\") as fa:\n",
    "            strb = stra.replace(\" \", \",\")\n",
    "            fa.write(strb)"
   ]
  },
  {
   "cell_type": "code",
   "execution_count": 40,
   "metadata": {},
   "outputs": [],
   "source": [
    "obja = fileops(\"data.txt\")"
   ]
  },
  {
   "cell_type": "code",
   "execution_count": 37,
   "metadata": {},
   "outputs": [
    {
     "data": {
      "text/plain": [
       "['23', '78', '45', '78', '32', '67']"
      ]
     },
     "execution_count": 37,
     "metadata": {},
     "output_type": "execute_result"
    }
   ],
   "source": [
    "obja.read_col(0)"
   ]
  },
  {
   "cell_type": "code",
   "execution_count": 38,
   "metadata": {},
   "outputs": [
    {
     "data": {
      "text/plain": [
       "[23, 78, 45, 78, 32, 67]"
      ]
     },
     "execution_count": 38,
     "metadata": {},
     "output_type": "execute_result"
    }
   ],
   "source": [
    "obja.read_col_num(0)"
   ]
  },
  {
   "cell_type": "code",
   "execution_count": 41,
   "metadata": {},
   "outputs": [],
   "source": [
    "obja.concert_to_csv()"
   ]
  },
  {
   "cell_type": "code",
   "execution_count": 42,
   "metadata": {},
   "outputs": [
    {
     "data": {
      "text/plain": [
       "'UTF-8'"
      ]
     },
     "execution_count": 42,
     "metadata": {},
     "output_type": "execute_result"
    }
   ],
   "source": [
    "fa.encoding"
   ]
  },
  {
   "cell_type": "code",
   "execution_count": null,
   "metadata": {},
   "outputs": [],
   "source": []
  }
 ],
 "metadata": {
  "kernelspec": {
   "display_name": "Python 3",
   "language": "python",
   "name": "python3"
  },
  "language_info": {
   "codemirror_mode": {
    "name": "ipython",
    "version": 3
   },
   "file_extension": ".py",
   "mimetype": "text/x-python",
   "name": "python",
   "nbconvert_exporter": "python",
   "pygments_lexer": "ipython3",
   "version": "3.7.7"
  }
 },
 "nbformat": 4,
 "nbformat_minor": 4
}
