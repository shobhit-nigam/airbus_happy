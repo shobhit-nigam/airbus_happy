{
 "cells": [
  {
   "cell_type": "code",
   "execution_count": null,
   "metadata": {},
   "outputs": [],
   "source": [
    "if <condition> :\n",
    "    eskfd\n",
    "    sfcdf\n",
    "    sdfcd\n",
    "    sdffs"
   ]
  },
  {
   "cell_type": "code",
   "execution_count": 1,
   "metadata": {},
   "outputs": [],
   "source": [
    "varx = 30\n",
    "vary = 40\n",
    "varz = 0"
   ]
  },
  {
   "cell_type": "code",
   "execution_count": 3,
   "metadata": {},
   "outputs": [
    {
     "name": "stdout",
     "output_type": "stream",
     "text": [
      "sat sri akaal\n"
     ]
    }
   ],
   "source": [
    "if varx > vary:\n",
    "    print(\"good morning\")\n",
    "elif vary < varz:\n",
    "    print(\"namaste\")\n",
    "elif varz > varx:\n",
    "    print(\"jai ninendra\")\n",
    "elif varx == 30:\n",
    "    print(\"sat sri akaal\")\n",
    "else:\n",
    "    print(\"salaam\")\n",
    "    print(\"and good day\")"
   ]
  },
  {
   "cell_type": "code",
   "execution_count": 4,
   "metadata": {},
   "outputs": [
    {
     "name": "stdout",
     "output_type": "stream",
     "text": [
      "sat sri akaal\n",
      "and good day\n"
     ]
    }
   ],
   "source": [
    "if varx > vary:\n",
    "    print(\"good morning\")\n",
    "elif vary < varz:\n",
    "    print(\"namaste\")\n",
    "elif varz > varx:\n",
    "    print(\"jai ninendra\")\n",
    "elif varx == 30:\n",
    "    print(\"sat sri akaal\")\n",
    "else:\n",
    "    print(\"salaam\")\n",
    "print(\"and good day\")"
   ]
  },
  {
   "cell_type": "code",
   "execution_count": 5,
   "metadata": {},
   "outputs": [
    {
     "ename": "IndentationError",
     "evalue": "expected an indented block (<ipython-input-5-dbfd6698083b>, line 6)",
     "output_type": "error",
     "traceback": [
      "\u001b[0;36m  File \u001b[0;32m\"<ipython-input-5-dbfd6698083b>\"\u001b[0;36m, line \u001b[0;32m6\u001b[0m\n\u001b[0;31m    print(\"jai ninendra\")\u001b[0m\n\u001b[0m        ^\u001b[0m\n\u001b[0;31mIndentationError\u001b[0m\u001b[0;31m:\u001b[0m expected an indented block\n"
     ]
    }
   ],
   "source": [
    "if varx > vary:\n",
    "    print(\"good morning\")\n",
    "elif vary < varz:\n",
    "    print(\"namaste\")\n",
    "elif varz > varx:\n",
    "    print(\"jai ninendra\")\n",
    "elif varx == 30:\n",
    "    print(\"sat sri akaal\")\n",
    "else:\n",
    "    print(\"salaam\")\n",
    "print(\"and good day\")"
   ]
  },
  {
   "cell_type": "code",
   "execution_count": 6,
   "metadata": {},
   "outputs": [
    {
     "name": "stdout",
     "output_type": "stream",
     "text": [
      "sat sri akaal\n",
      "and good day\n"
     ]
    }
   ],
   "source": [
    "if (varx > vary) and (varx > varz):\n",
    "    print(\"good morning\")\n",
    "elif vary < varz:\n",
    "    print(\"namaste\")\n",
    "elif varz > varx:\n",
    "    print(\"jai ninendra\")\n",
    "elif varx == 30:\n",
    "    print(\"sat sri akaal\")\n",
    "else:\n",
    "    print(\"salaam\")\n",
    "print(\"and good day\")"
   ]
  },
  {
   "cell_type": "code",
   "execution_count": 7,
   "metadata": {},
   "outputs": [
    {
     "name": "stdout",
     "output_type": "stream",
     "text": [
      "sat sri akaal\n",
      "and good day\n"
     ]
    }
   ],
   "source": [
    "if varx > vary > varz:\n",
    "    print(\"good morning\")\n",
    "elif vary < varz:\n",
    "    print(\"namaste\")\n",
    "elif varz > varx:\n",
    "    print(\"jai ninendra\")\n",
    "elif varx == 30:\n",
    "    print(\"sat sri akaal\")\n",
    "else:\n",
    "    print(\"salaam\")\n",
    "print(\"and good day\")"
   ]
  },
  {
   "cell_type": "code",
   "execution_count": 8,
   "metadata": {},
   "outputs": [
    {
     "name": "stdout",
     "output_type": "stream",
     "text": [
      "good morning\n",
      "sdgfgdj\n",
      "\n",
      "and good day\n"
     ]
    }
   ],
   "source": [
    "if varx > varz:\n",
    "    print(\"good morning\")\n",
    "    print(\"sdgfgdj\")\n",
    "    if varx > vary:\n",
    "        print()\n",
    "    else:\n",
    "        print()\n",
    "elif vary < varz:\n",
    "    print(\"namaste\")\n",
    "elif varz > varx:\n",
    "    print(\"jai ninendra\")\n",
    "elif varx == 30:\n",
    "    print(\"sat sri akaal\")\n",
    "else:\n",
    "    print(\"salaam\")\n",
    "print(\"and good day\")"
   ]
  },
  {
   "cell_type": "code",
   "execution_count": 11,
   "metadata": {},
   "outputs": [],
   "source": [
    "if varx > varz:\n",
    "    pass\n",
    "else:\n",
    "    pass"
   ]
  },
  {
   "cell_type": "code",
   "execution_count": 12,
   "metadata": {},
   "outputs": [],
   "source": [
    "None \n",
    "# not same as NULL\n",
    "# not same as void\n",
    "# not same as blank (NaN)"
   ]
  },
  {
   "cell_type": "code",
   "execution_count": 13,
   "metadata": {},
   "outputs": [
    {
     "name": "stdout",
     "output_type": "stream",
     "text": [
      "<class 'NoneType'>\n"
     ]
    }
   ],
   "source": [
    "print(type(None))"
   ]
  },
  {
   "cell_type": "code",
   "execution_count": 14,
   "metadata": {},
   "outputs": [],
   "source": [
    "x = None\n",
    "y = None"
   ]
  },
  {
   "cell_type": "code",
   "execution_count": 15,
   "metadata": {},
   "outputs": [
    {
     "data": {
      "text/plain": [
       "True"
      ]
     },
     "execution_count": 15,
     "metadata": {},
     "output_type": "execute_result"
    }
   ],
   "source": [
    "x == y"
   ]
  },
  {
   "cell_type": "code",
   "execution_count": 16,
   "metadata": {},
   "outputs": [],
   "source": [
    "if None :\n",
    "    print(\"hey\")"
   ]
  },
  {
   "cell_type": "code",
   "execution_count": 17,
   "metadata": {},
   "outputs": [
    {
     "name": "stdout",
     "output_type": "stream",
     "text": [
      "hey\n"
     ]
    }
   ],
   "source": [
    "if not None :\n",
    "    print(\"hey\")"
   ]
  },
  {
   "cell_type": "code",
   "execution_count": 19,
   "metadata": {},
   "outputs": [],
   "source": [
    "# ''   []   {}"
   ]
  },
  {
   "cell_type": "code",
   "execution_count": 20,
   "metadata": {},
   "outputs": [
    {
     "name": "stdout",
     "output_type": "stream",
     "text": [
      "varx = 30\n",
      "varx = 32\n",
      "varx = 34\n",
      "varx = 36\n",
      "varx = 38\n"
     ]
    }
   ],
   "source": [
    "while(varx < vary):\n",
    "    print(\"varx =\", varx)\n",
    "    varx = varx+2"
   ]
  },
  {
   "cell_type": "code",
   "execution_count": 21,
   "metadata": {},
   "outputs": [],
   "source": [
    "# while(True):\n",
    "#    print(\"varx =\", varx)\n",
    "#    varx = varx+2"
   ]
  },
  {
   "cell_type": "code",
   "execution_count": 22,
   "metadata": {},
   "outputs": [],
   "source": [
    "while(varx < vary):\n",
    "    print(\"varx =\", varx)\n",
    "    varx = varx+2"
   ]
  },
  {
   "cell_type": "code",
   "execution_count": 23,
   "metadata": {},
   "outputs": [
    {
     "name": "stdout",
     "output_type": "stream",
     "text": [
      "i = 0\n",
      "i = 1\n",
      "i = 2\n",
      "i = 3\n",
      "i = 4\n"
     ]
    }
   ],
   "source": [
    "for i in range(5):\n",
    "    print(\"i =\", i)"
   ]
  },
  {
   "cell_type": "code",
   "execution_count": 24,
   "metadata": {},
   "outputs": [
    {
     "name": "stdout",
     "output_type": "stream",
     "text": [
      "i = 3\n",
      "i = 4\n",
      "i = 5\n",
      "i = 6\n",
      "i = 7\n"
     ]
    }
   ],
   "source": [
    "for i in range(3, 8):\n",
    "    print(\"i =\", i)"
   ]
  },
  {
   "cell_type": "code",
   "execution_count": 25,
   "metadata": {},
   "outputs": [
    {
     "name": "stdout",
     "output_type": "stream",
     "text": [
      "i = 3\n",
      "i = 6\n",
      "i = 9\n",
      "i = 12\n",
      "i = 15\n"
     ]
    }
   ],
   "source": [
    "for i in range(3, 18, 3):\n",
    "    print(\"i =\", i)"
   ]
  },
  {
   "cell_type": "code",
   "execution_count": 26,
   "metadata": {},
   "outputs": [
    {
     "name": "stdout",
     "output_type": "stream",
     "text": [
      "thu = 3\n",
      "thu = 6\n",
      "thu = 9\n",
      "thu = 12\n",
      "thu = 15\n"
     ]
    }
   ],
   "source": [
    "for thu in range(3, 18, 3):\n",
    "    print(\"thu =\", thu)"
   ]
  },
  {
   "cell_type": "code",
   "execution_count": 27,
   "metadata": {},
   "outputs": [],
   "source": [
    "avengers = ['captain', 'spiderman', 'ironman', 'black widow', 'wanda', 'thor']"
   ]
  },
  {
   "cell_type": "code",
   "execution_count": 28,
   "metadata": {},
   "outputs": [
    {
     "name": "stdout",
     "output_type": "stream",
     "text": [
      "i =  0\n",
      "val = captain \n",
      "\n",
      "i =  1\n",
      "val = spiderman \n",
      "\n",
      "i =  2\n",
      "val = ironman \n",
      "\n",
      "i =  3\n",
      "val = black widow \n",
      "\n",
      "i =  4\n",
      "val = wanda \n",
      "\n",
      "i =  5\n",
      "val = thor \n",
      "\n"
     ]
    }
   ],
   "source": [
    "for i in range(6):\n",
    "    print(\"i = \", i)\n",
    "    print(\"val =\", avengers[i], \"\\n\")"
   ]
  },
  {
   "cell_type": "code",
   "execution_count": 29,
   "metadata": {},
   "outputs": [
    {
     "name": "stdout",
     "output_type": "stream",
     "text": [
      "val = captain\n",
      "val = spiderman\n",
      "val = ironman\n",
      "val = black widow\n",
      "val = wanda\n",
      "val = thor\n"
     ]
    }
   ],
   "source": [
    "for val in avengers:\n",
    "    print(\"val =\", val)"
   ]
  },
  {
   "cell_type": "code",
   "execution_count": 30,
   "metadata": {},
   "outputs": [
    {
     "data": {
      "text/plain": [
       "['ironman', 'black widow', 'wanda', 'thor']"
      ]
     },
     "execution_count": 30,
     "metadata": {},
     "output_type": "execute_result"
    }
   ],
   "source": [
    "avengers[2:]"
   ]
  },
  {
   "cell_type": "code",
   "execution_count": 31,
   "metadata": {},
   "outputs": [
    {
     "data": {
      "text/plain": [
       "['spiderman', 'ironman', 'black widow']"
      ]
     },
     "execution_count": 31,
     "metadata": {},
     "output_type": "execute_result"
    }
   ],
   "source": [
    "avengers[1:4]"
   ]
  },
  {
   "cell_type": "code",
   "execution_count": 32,
   "metadata": {},
   "outputs": [
    {
     "name": "stdout",
     "output_type": "stream",
     "text": [
      "val = spiderman\n",
      "val = ironman\n",
      "val = black widow\n"
     ]
    }
   ],
   "source": [
    "for val in avengers[1:4]:\n",
    "    print(\"val =\", val)"
   ]
  },
  {
   "cell_type": "code",
   "execution_count": 33,
   "metadata": {},
   "outputs": [],
   "source": [
    "fruits = {'apples', 'oranges', 'plums', 'grapes', 'mango', 'tomatoes'}\n",
    "\n",
    "basket = {'bananas', 'apples', 'grapes', 'melons'} "
   ]
  },
  {
   "cell_type": "code",
   "execution_count": 34,
   "metadata": {},
   "outputs": [
    {
     "name": "stdout",
     "output_type": "stream",
     "text": [
      "grapes\n",
      "tomatoes\n",
      "oranges\n",
      "plums\n",
      "apples\n",
      "mango\n"
     ]
    }
   ],
   "source": [
    "for f in fruits:\n",
    "    print(f)"
   ]
  },
  {
   "cell_type": "code",
   "execution_count": 35,
   "metadata": {},
   "outputs": [],
   "source": [
    "avengers = {'captain': ['shield', 'hammer'],\n",
    " 'ironman': 'suit',\n",
    " 'thor': 'hammer',\n",
    " 'hulk': 'smash'} "
   ]
  },
  {
   "cell_type": "code",
   "execution_count": 36,
   "metadata": {},
   "outputs": [
    {
     "name": "stdout",
     "output_type": "stream",
     "text": [
      "k = captain\n",
      "k = ironman\n",
      "k = thor\n",
      "k = hulk\n"
     ]
    }
   ],
   "source": [
    "for k in avengers:\n",
    "    print(\"k =\", k)"
   ]
  },
  {
   "cell_type": "code",
   "execution_count": 37,
   "metadata": {},
   "outputs": [
    {
     "name": "stdout",
     "output_type": "stream",
     "text": [
      "k = ['shield', 'hammer']\n",
      "k = suit\n",
      "k = hammer\n",
      "k = smash\n"
     ]
    }
   ],
   "source": [
    "for k in avengers.values():\n",
    "    print(\"k =\", k)"
   ]
  },
  {
   "cell_type": "code",
   "execution_count": 39,
   "metadata": {},
   "outputs": [
    {
     "name": "stdout",
     "output_type": "stream",
     "text": [
      "k = captain \tval = ['shield', 'hammer']\n",
      "k = ironman \tval = suit\n",
      "k = thor \tval = hammer\n",
      "k = hulk \tval = smash\n"
     ]
    }
   ],
   "source": [
    "for k in avengers:\n",
    "    print(\"k =\", k, \"\\tval =\", avengers[k])"
   ]
  },
  {
   "cell_type": "code",
   "execution_count": 41,
   "metadata": {},
   "outputs": [
    {
     "name": "stdout",
     "output_type": "stream",
     "text": [
      "k = captain \tv = ['shield', 'hammer']\n",
      "k = ironman \tv = suit\n",
      "k = thor \tv = hammer\n",
      "k = hulk \tv = smash\n"
     ]
    }
   ],
   "source": [
    "for k, v in avengers.items():\n",
    "    print(\"k =\", k, \"\\tv =\", v)"
   ]
  },
  {
   "cell_type": "code",
   "execution_count": 42,
   "metadata": {},
   "outputs": [],
   "source": [
    "fruits = ['apples', 'oranges', 'plums', 'grapes', 'mango', 'tomatoes']\n",
    "\n",
    "basket = ['bananas', 'apples', 'grapes', 'melons']"
   ]
  },
  {
   "cell_type": "code",
   "execution_count": 43,
   "metadata": {},
   "outputs": [
    {
     "name": "stdout",
     "output_type": "stream",
     "text": [
      "apples\n",
      "grapes\n"
     ]
    }
   ],
   "source": [
    "for x in fruits:\n",
    "    if(x in basket):\n",
    "        print(x)"
   ]
  },
  {
   "cell_type": "code",
   "execution_count": 44,
   "metadata": {},
   "outputs": [],
   "source": [
    "common = []\n",
    "\n",
    "for x in fruits:\n",
    "    if x in basket:\n",
    "        common.append(x)"
   ]
  },
  {
   "cell_type": "code",
   "execution_count": 45,
   "metadata": {},
   "outputs": [
    {
     "name": "stdout",
     "output_type": "stream",
     "text": [
      "['apples', 'grapes']\n"
     ]
    }
   ],
   "source": [
    "print(common)"
   ]
  },
  {
   "cell_type": "code",
   "execution_count": 46,
   "metadata": {},
   "outputs": [
    {
     "name": "stdout",
     "output_type": "stream",
     "text": [
      "apples\n"
     ]
    }
   ],
   "source": [
    "for x in fruits:\n",
    "    if(x in basket):\n",
    "        print(x)\n",
    "        break"
   ]
  },
  {
   "cell_type": "code",
   "execution_count": 50,
   "metadata": {},
   "outputs": [
    {
     "name": "stdout",
     "output_type": "stream",
     "text": [
      "found at  0\n"
     ]
    }
   ],
   "source": [
    "for i in range(len(fruits)):\n",
    "    if \"grapes\" in fruits:\n",
    "        print(\"found at \", i)\n",
    "        break"
   ]
  },
  {
   "cell_type": "code",
   "execution_count": 52,
   "metadata": {},
   "outputs": [
    {
     "name": "stdout",
     "output_type": "stream",
     "text": [
      "found at  3\n"
     ]
    }
   ],
   "source": [
    "for i in range(len(fruits)):\n",
    "    if \"grapes\" == fruits[i]:\n",
    "        print(\"found at \", i)\n",
    "        break"
   ]
  },
  {
   "cell_type": "code",
   "execution_count": 53,
   "metadata": {},
   "outputs": [],
   "source": [
    "for i in range(len(fruits)):\n",
    "    if \"melons\" == fruits[i]:\n",
    "        print(\"found at \", i)\n",
    "        break"
   ]
  },
  {
   "cell_type": "code",
   "execution_count": 54,
   "metadata": {},
   "outputs": [
    {
     "name": "stdout",
     "output_type": "stream",
     "text": [
      "did not find\n",
      "did not find\n",
      "did not find\n",
      "did not find\n",
      "did not find\n",
      "did not find\n"
     ]
    }
   ],
   "source": [
    "for i in range(len(fruits)):\n",
    "    if \"melons\" == fruits[i]:\n",
    "        print(\"found at \", i)\n",
    "        break\n",
    "    else:\n",
    "        print(\"did not find\")"
   ]
  },
  {
   "cell_type": "code",
   "execution_count": 55,
   "metadata": {},
   "outputs": [
    {
     "name": "stdout",
     "output_type": "stream",
     "text": [
      "did not find\n"
     ]
    }
   ],
   "source": [
    "for i in range(len(fruits)):\n",
    "    if \"melons\" == fruits[i]:\n",
    "        print(\"found at \", i)\n",
    "        break\n",
    "else:\n",
    "    print(\"did not find\")"
   ]
  },
  {
   "cell_type": "code",
   "execution_count": 56,
   "metadata": {},
   "outputs": [
    {
     "name": "stdout",
     "output_type": "stream",
     "text": [
      "found at  3\n"
     ]
    }
   ],
   "source": [
    "for i in range(len(fruits)):\n",
    "    if \"grapes\" == fruits[i]:\n",
    "        print(\"found at \", i)\n",
    "        break\n",
    "else:\n",
    "    print(\"did not find\")"
   ]
  },
  {
   "cell_type": "code",
   "execution_count": null,
   "metadata": {},
   "outputs": [],
   "source": []
  }
 ],
 "metadata": {
  "kernelspec": {
   "display_name": "Python 3",
   "language": "python",
   "name": "python3"
  },
  "language_info": {
   "codemirror_mode": {
    "name": "ipython",
    "version": 3
   },
   "file_extension": ".py",
   "mimetype": "text/x-python",
   "name": "python",
   "nbconvert_exporter": "python",
   "pygments_lexer": "ipython3",
   "version": "3.7.7"
  }
 },
 "nbformat": 4,
 "nbformat_minor": 4
}
