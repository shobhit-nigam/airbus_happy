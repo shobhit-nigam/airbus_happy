{
 "cells": [
  {
   "cell_type": "code",
   "execution_count": 1,
   "metadata": {},
   "outputs": [],
   "source": [
    "import re"
   ]
  },
  {
   "cell_type": "code",
   "execution_count": 2,
   "metadata": {},
   "outputs": [
    {
     "name": "stdout",
     "output_type": "stream",
     "text": [
      "hell\n",
      "match found\n"
     ]
    }
   ],
   "source": [
    "stra = input()\n",
    "\n",
    "pat = \"^h..l$\"\n",
    "\n",
    "res = re.match(pat, stra)\n",
    "\n",
    "if res:\n",
    "    print(\"match found\")\n",
    "else:\n",
    "    print(\"no match\")"
   ]
  },
  {
   "cell_type": "code",
   "execution_count": 3,
   "metadata": {},
   "outputs": [
    {
     "name": "stdout",
     "output_type": "stream",
     "text": [
      "hello\n",
      "no match\n"
     ]
    }
   ],
   "source": [
    "stra = input()\n",
    "\n",
    "pat = \"^h..l$\"\n",
    "\n",
    "res = re.match(pat, stra)\n",
    "\n",
    "if res:\n",
    "    print(\"match found\")\n",
    "else:\n",
    "    print(\"no match\")"
   ]
  },
  {
   "cell_type": "code",
   "execution_count": 4,
   "metadata": {},
   "outputs": [
    {
     "name": "stdout",
     "output_type": "stream",
     "text": [
      "hello\n",
      "match found\n"
     ]
    }
   ],
   "source": [
    "stra = input()\n",
    "\n",
    "pat = \"^h..l\"\n",
    "\n",
    "res = re.match(pat, stra)\n",
    "\n",
    "if res:\n",
    "    print(\"match found\")\n",
    "else:\n",
    "    print(\"no match\")"
   ]
  },
  {
   "cell_type": "code",
   "execution_count": 5,
   "metadata": {},
   "outputs": [
    {
     "name": "stdout",
     "output_type": "stream",
     "text": [
      "healing wounds\n",
      "match found\n"
     ]
    }
   ],
   "source": [
    "stra = input()\n",
    "\n",
    "pat = \"h..l\"\n",
    "\n",
    "res = re.match(pat, stra)\n",
    "\n",
    "if res:\n",
    "    print(\"match found\")\n",
    "else:\n",
    "    print(\"no match\")"
   ]
  },
  {
   "cell_type": "code",
   "execution_count": 6,
   "metadata": {},
   "outputs": [
    {
     "name": "stdout",
     "output_type": "stream",
     "text": [
      "saying a hello heals a sore heel\n",
      "['hell', 'heal', 'heel']\n"
     ]
    }
   ],
   "source": [
    "stra = input()\n",
    "\n",
    "pat = \"h..l\"\n",
    "\n",
    "res = re.findall(pat, stra)\n",
    "\n",
    "print(res)"
   ]
  },
  {
   "cell_type": "code",
   "execution_count": 7,
   "metadata": {},
   "outputs": [
    {
     "name": "stdout",
     "output_type": "stream",
     "text": [
      "Hello to hell\n",
      "['hell']\n"
     ]
    }
   ],
   "source": [
    "stra = input()\n",
    "\n",
    "pat = \"h..l\"\n",
    "\n",
    "res = re.findall(pat, stra)\n",
    "\n",
    "print(res)"
   ]
  },
  {
   "cell_type": "code",
   "execution_count": 8,
   "metadata": {},
   "outputs": [
    {
     "name": "stdout",
     "output_type": "stream",
     "text": [
      "Hello to hell\n",
      "['Hell', 'hell']\n"
     ]
    }
   ],
   "source": [
    "stra = input()\n",
    "\n",
    "pat = \"h..l\"\n",
    "\n",
    "res = re.findall(pat, stra, re.IGNORECASE)\n",
    "\n",
    "print(res)"
   ]
  },
  {
   "cell_type": "code",
   "execution_count": 9,
   "metadata": {},
   "outputs": [
    {
     "name": "stdout",
     "output_type": "stream",
     "text": [
      "['2', '3', '5', '6', '7', '8', '1', '2', '7', '8', '4', '5', '4', '4', '4', '6', '7', '7', '8', '3', '3', '8', '8', '3', '2', '7', '9', '6', '7', '3', '5', '2', '9']\n"
     ]
    }
   ],
   "source": [
    "with open(\"datab.txt\", \"r\") as fa:\n",
    "    stra = fa.read()\n",
    "\n",
    "pat = \"\\d\"\n",
    "\n",
    "res = re.findall(pat, stra)\n",
    "\n",
    "print(res)"
   ]
  },
  {
   "cell_type": "code",
   "execution_count": 10,
   "metadata": {},
   "outputs": [
    {
     "name": "stdout",
     "output_type": "stream",
     "text": [
      "['23', '56', '78', '12', '78', '45', '444', '67', '78', '33', '88', '32', '79', '67', '35', '29']\n"
     ]
    }
   ],
   "source": [
    "with open(\"datab.txt\", \"r\") as fa:\n",
    "    stra = fa.read()\n",
    "\n",
    "pat = \"\\d+\"\n",
    "\n",
    "res = re.findall(pat, stra)\n",
    "\n",
    "print(res)"
   ]
  },
  {
   "cell_type": "code",
   "execution_count": 12,
   "metadata": {},
   "outputs": [
    {
     "name": "stdout",
     "output_type": "stream",
     "text": [
      "['23', '56', '78', '12', '78', '45', '444', '67', '78', '33', '88', '32', '79', '67', '35', '29']\n"
     ]
    }
   ],
   "source": [
    "with open(\"datab.txt\", \"r\") as fa:\n",
    "    stra = fa.read()\n",
    "\n",
    "pat = \"\\d{2,4}\"\n",
    "\n",
    "res = re.findall(pat, stra)\n",
    "\n",
    "print(res)"
   ]
  },
  {
   "cell_type": "code",
   "execution_count": 17,
   "metadata": {},
   "outputs": [
    {
     "name": "stdout",
     "output_type": "stream",
     "text": [
      "## hu ## tty\n",
      "re cf ## lou ## \n",
      "## wq vg ## ##\n",
      "tt xd ## vty gy ##\n",
      "## vg rt cft bt ##\n",
      "ki jk ## gth ##\n"
     ]
    }
   ],
   "source": [
    "with open(\"datac.txt\", \"r\") as fa:\n",
    "    stra = fa.read()\n",
    "\n",
    "pat = \"\\d+\"\n",
    "rep = \"##\"\n",
    "\n",
    "res = re.sub(pat, rep, stra)\n",
    "\n",
    "print(res)"
   ]
  },
  {
   "cell_type": "code",
   "execution_count": 18,
   "metadata": {},
   "outputs": [
    {
     "name": "stdout",
     "output_type": "stream",
     "text": [
      "23_hu_5666_tty_re_cf_12_lou_78_45_wq_vg_444_67_tt_xd_33_vty_gy_88_32_vg_rt_cft_bt_79_ki_jk_35_gth_29679\n"
     ]
    }
   ],
   "source": [
    "with open(\"datac.txt\", \"r\") as fa:\n",
    "    stra = fa.read()\n",
    "\n",
    "pat = \"\\s+\"\n",
    "rep = \"_\"\n",
    "\n",
    "res = re.sub(pat, rep, stra)\n",
    "\n",
    "print(res)"
   ]
  },
  {
   "cell_type": "code",
   "execution_count": 19,
   "metadata": {},
   "outputs": [
    {
     "name": "stdout",
     "output_type": "stream",
     "text": [
      "# hu # tty\n",
      "re cf # lou # \n",
      "# wq vg 444 67\n",
      "tt xd 33 vty gy 88\n",
      "32 vg rt cft bt 79\n",
      "ki jk 35 gth 29679\n"
     ]
    }
   ],
   "source": [
    "with open(\"datac.txt\", \"r\") as fa:\n",
    "    stra = fa.read()\n",
    "\n",
    "pat = \"\\d+\"\n",
    "rep = \"#\"\n",
    "\n",
    "res = re.sub(pat, rep, stra, 5)\n",
    "\n",
    "print(res)"
   ]
  },
  {
   "cell_type": "code",
   "execution_count": 20,
   "metadata": {},
   "outputs": [
    {
     "name": "stdout",
     "output_type": "stream",
     "text": [
      "('# hu # tty\\nre cf # lou # \\n# wq vg # #\\ntt xd # vty gy #\\n# vg rt cft bt #\\nki jk # gth #', 13)\n"
     ]
    }
   ],
   "source": [
    "with open(\"datac.txt\", \"r\") as fa:\n",
    "    stra = fa.read()\n",
    "\n",
    "pat = \"\\d+\"\n",
    "rep = \"#\"\n",
    "\n",
    "res = re.subn(pat, rep, stra)\n",
    "\n",
    "print(res)"
   ]
  },
  {
   "cell_type": "code",
   "execution_count": 23,
   "metadata": {},
   "outputs": [
    {
     "name": "stdout",
     "output_type": "stream",
     "text": [
      "match found\n"
     ]
    }
   ],
   "source": [
    "stra = \"674 hi 8345 dd 983 xx\"\n",
    "\n",
    "pat = \"(\\d{3}) ([a-z]{2})\"\n",
    "\n",
    "res = re.search(pat, stra)\n",
    "\n",
    "if res:\n",
    "    print(\"match found\")\n",
    "else:\n",
    "    print(\"no match\")"
   ]
  },
  {
   "cell_type": "code",
   "execution_count": 24,
   "metadata": {},
   "outputs": [
    {
     "name": "stdout",
     "output_type": "stream",
     "text": [
      "match found\n",
      "('674', 'hi')\n"
     ]
    }
   ],
   "source": [
    "stra = \"674 hi 8345 dd 983 xx\"\n",
    "\n",
    "pat = \"(\\d{3}) ([a-z]{2})\"\n",
    "\n",
    "res = re.search(pat, stra)\n",
    "\n",
    "if res:\n",
    "    print(\"match found\")\n",
    "else:\n",
    "    print(\"no match\")\n",
    "    \n",
    "print(res.groups())"
   ]
  },
  {
   "cell_type": "code",
   "execution_count": 25,
   "metadata": {},
   "outputs": [
    {
     "data": {
      "text/plain": [
       "'674'"
      ]
     },
     "execution_count": 25,
     "metadata": {},
     "output_type": "execute_result"
    }
   ],
   "source": [
    "res.group(1)"
   ]
  },
  {
   "cell_type": "code",
   "execution_count": 26,
   "metadata": {},
   "outputs": [
    {
     "data": {
      "text/plain": [
       "'hi'"
      ]
     },
     "execution_count": 26,
     "metadata": {},
     "output_type": "execute_result"
    }
   ],
   "source": [
    "res.group(2)"
   ]
  },
  {
   "cell_type": "code",
   "execution_count": 28,
   "metadata": {},
   "outputs": [
    {
     "data": {
      "text/plain": [
       "('674', 'hi')"
      ]
     },
     "execution_count": 28,
     "metadata": {},
     "output_type": "execute_result"
    }
   ],
   "source": [
    "res.group(1, 2)"
   ]
  },
  {
   "cell_type": "code",
   "execution_count": 29,
   "metadata": {},
   "outputs": [
    {
     "data": {
      "text/plain": [
       "6"
      ]
     },
     "execution_count": 29,
     "metadata": {},
     "output_type": "execute_result"
    }
   ],
   "source": [
    "res.end()"
   ]
  },
  {
   "cell_type": "code",
   "execution_count": 30,
   "metadata": {},
   "outputs": [
    {
     "data": {
      "text/plain": [
       "(0, 6)"
      ]
     },
     "execution_count": 30,
     "metadata": {},
     "output_type": "execute_result"
    }
   ],
   "source": [
    "res.span()"
   ]
  },
  {
   "cell_type": "code",
   "execution_count": 31,
   "metadata": {},
   "outputs": [
    {
     "data": {
      "text/plain": [
       "'674 hi 8345 dd 983 xx'"
      ]
     },
     "execution_count": 31,
     "metadata": {},
     "output_type": "execute_result"
    }
   ],
   "source": [
    "res.string"
   ]
  },
  {
   "cell_type": "code",
   "execution_count": 32,
   "metadata": {},
   "outputs": [
    {
     "data": {
      "text/plain": [
       "re.compile(r'(\\d{3}) ([a-z]{2})', re.UNICODE)"
      ]
     },
     "execution_count": 32,
     "metadata": {},
     "output_type": "execute_result"
    }
   ],
   "source": [
    "res.re"
   ]
  },
  {
   "cell_type": "code",
   "execution_count": 33,
   "metadata": {},
   "outputs": [
    {
     "data": {
      "text/plain": [
       "True"
      ]
     },
     "execution_count": 33,
     "metadata": {},
     "output_type": "execute_result"
    }
   ],
   "source": [
    "\"hi\".isascii()"
   ]
  },
  {
   "cell_type": "code",
   "execution_count": 34,
   "metadata": {},
   "outputs": [
    {
     "data": {
      "text/plain": [
       "True"
      ]
     },
     "execution_count": 34,
     "metadata": {},
     "output_type": "execute_result"
    }
   ],
   "source": [
    "\"hi\".isprintable()"
   ]
  },
  {
   "cell_type": "code",
   "execution_count": null,
   "metadata": {},
   "outputs": [],
   "source": []
  }
 ],
 "metadata": {
  "kernelspec": {
   "display_name": "Python 3",
   "language": "python",
   "name": "python3"
  },
  "language_info": {
   "codemirror_mode": {
    "name": "ipython",
    "version": 3
   },
   "file_extension": ".py",
   "mimetype": "text/x-python",
   "name": "python",
   "nbconvert_exporter": "python",
   "pygments_lexer": "ipython3",
   "version": "3.7.7"
  }
 },
 "nbformat": 4,
 "nbformat_minor": 4
}
