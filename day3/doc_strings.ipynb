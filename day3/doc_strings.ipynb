{
 "cells": [
  {
   "cell_type": "code",
   "execution_count": 1,
   "metadata": {},
   "outputs": [],
   "source": [
    "stra = \"\"\"today is friday\n",
    "first weekend of the year \n",
    "last weekedn was not counted\"\"\""
   ]
  },
  {
   "cell_type": "code",
   "execution_count": 2,
   "metadata": {},
   "outputs": [
    {
     "name": "stdout",
     "output_type": "stream",
     "text": [
      "today is friday\n",
      "first weekend of the year \n",
      "last weekedn was not counted\n"
     ]
    }
   ],
   "source": [
    "print(stra)"
   ]
  },
  {
   "cell_type": "code",
   "execution_count": 3,
   "metadata": {},
   "outputs": [
    {
     "data": {
      "text/plain": [
       "'today is friday\\nfirst weekend of the year \\nlast weekedn was not counted'"
      ]
     },
     "execution_count": 3,
     "metadata": {},
     "output_type": "execute_result"
    }
   ],
   "source": [
    "stra"
   ]
  },
  {
   "cell_type": "code",
   "execution_count": 4,
   "metadata": {},
   "outputs": [],
   "source": [
    "def funca():\n",
    "    \"this function helps us launch ****\"\n",
    "    print(\"tttt\")\n",
    "    print(\"yyyy\")"
   ]
  },
  {
   "cell_type": "code",
   "execution_count": 5,
   "metadata": {},
   "outputs": [
    {
     "name": "stdout",
     "output_type": "stream",
     "text": [
      "this function helps us launch ****\n"
     ]
    }
   ],
   "source": [
    "print(funca.__doc__)"
   ]
  },
  {
   "cell_type": "code",
   "execution_count": 8,
   "metadata": {},
   "outputs": [],
   "source": [
    "def funcb():\n",
    "    print(\"5555\")\n",
    "    \"hey\"\n",
    "    print(\"7777\")"
   ]
  },
  {
   "cell_type": "code",
   "execution_count": 9,
   "metadata": {},
   "outputs": [
    {
     "name": "stdout",
     "output_type": "stream",
     "text": [
      "None\n"
     ]
    }
   ],
   "source": [
    "print(funcb.__doc__)"
   ]
  },
  {
   "cell_type": "code",
   "execution_count": 10,
   "metadata": {},
   "outputs": [],
   "source": [
    "def funca(la, lb):\n",
    "    \"\"\"this function helps us launch ****\n",
    "    usage: first value la as int\n",
    "        second value lb as string\"\"\"\n",
    "    print(\"tttt\")\n",
    "    print(\"yyyy\")"
   ]
  },
  {
   "cell_type": "code",
   "execution_count": 11,
   "metadata": {},
   "outputs": [
    {
     "name": "stdout",
     "output_type": "stream",
     "text": [
      "this function helps us launch ****\n",
      "    usage: first value la as int\n",
      "        second value lb as string\n"
     ]
    }
   ],
   "source": [
    "print(funca.__doc__)"
   ]
  },
  {
   "cell_type": "code",
   "execution_count": 12,
   "metadata": {},
   "outputs": [
    {
     "name": "stdout",
     "output_type": "stream",
     "text": [
      "Help on function funca in module __main__:\n",
      "\n",
      "funca(la, lb)\n",
      "    this function helps us launch ****\n",
      "    usage: first value la as int\n",
      "        second value lb as string\n",
      "\n"
     ]
    }
   ],
   "source": [
    "help(funca)"
   ]
  },
  {
   "cell_type": "code",
   "execution_count": 13,
   "metadata": {},
   "outputs": [],
   "source": [
    "?funca"
   ]
  },
  {
   "cell_type": "code",
   "execution_count": 14,
   "metadata": {},
   "outputs": [],
   "source": [
    "import syed"
   ]
  },
  {
   "cell_type": "code",
   "execution_count": 15,
   "metadata": {},
   "outputs": [
    {
     "name": "stdout",
     "output_type": "stream",
     "text": [
      "Help on module syed:\n",
      "\n",
      "NAME\n",
      "    syed\n",
      "\n",
      "DESCRIPTION\n",
      "    this is syed's colourful module\n",
      "    will help us extract some colours\n",
      "\n",
      "FUNCTIONS\n",
      "    blue()\n",
      "        this gets us blue\n",
      "    \n",
      "    green()\n",
      "        dependency: needs blue & yellow\n",
      "    \n",
      "    yellow()\n",
      "\n",
      "DATA\n",
      "    data_a = 33\n",
      "    data_b = 44\n",
      "\n",
      "FILE\n",
      "    /Users/shobhit/Desktop/airbus_python/day3/syed.py\n",
      "\n",
      "\n"
     ]
    }
   ],
   "source": [
    "help(syed)"
   ]
  },
  {
   "cell_type": "code",
   "execution_count": 16,
   "metadata": {},
   "outputs": [],
   "source": [
    "def funcb():\n",
    "    \n",
    "    \"hello\"\n",
    "    print(\"5555\")\n",
    "    print(\"7777\")"
   ]
  },
  {
   "cell_type": "code",
   "execution_count": 17,
   "metadata": {},
   "outputs": [
    {
     "name": "stdout",
     "output_type": "stream",
     "text": [
      "Help on function funcb in module __main__:\n",
      "\n",
      "funcb()\n",
      "    hello\n",
      "\n"
     ]
    }
   ],
   "source": [
    "help(funcb)"
   ]
  },
  {
   "cell_type": "code",
   "execution_count": null,
   "metadata": {},
   "outputs": [],
   "source": []
  }
 ],
 "metadata": {
  "kernelspec": {
   "display_name": "Python 3",
   "language": "python",
   "name": "python3"
  },
  "language_info": {
   "codemirror_mode": {
    "name": "ipython",
    "version": 3
   },
   "file_extension": ".py",
   "mimetype": "text/x-python",
   "name": "python",
   "nbconvert_exporter": "python",
   "pygments_lexer": "ipython3",
   "version": "3.7.7"
  }
 },
 "nbformat": 4,
 "nbformat_minor": 4
}
