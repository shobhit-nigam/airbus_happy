{
 "cells": [
  {
   "cell_type": "code",
   "execution_count": 1,
   "metadata": {},
   "outputs": [
    {
     "ename": "SyntaxError",
     "evalue": "EOL while scanning string literal (<ipython-input-1-6cab417837aa>, line 1)",
     "output_type": "error",
     "traceback": [
      "\u001b[0;36m  File \u001b[0;32m\"<ipython-input-1-6cab417837aa>\"\u001b[0;36m, line \u001b[0;32m1\u001b[0m\n\u001b[0;31m    stra = \"hi'\u001b[0m\n\u001b[0m                ^\u001b[0m\n\u001b[0;31mSyntaxError\u001b[0m\u001b[0;31m:\u001b[0m EOL while scanning string literal\n"
     ]
    }
   ],
   "source": [
    "stra = \"hi' "
   ]
  },
  {
   "cell_type": "code",
   "execution_count": 2,
   "metadata": {},
   "outputs": [
    {
     "name": "stdout",
     "output_type": "stream",
     "text": [
      "hey\n"
     ]
    }
   ],
   "source": [
    "if True:\n",
    "    print(\"hey\")"
   ]
  },
  {
   "cell_type": "code",
   "execution_count": 3,
   "metadata": {},
   "outputs": [],
   "source": [
    "varx = 10\n",
    "vary = 0\n",
    "varz = 20"
   ]
  },
  {
   "cell_type": "code",
   "execution_count": 4,
   "metadata": {},
   "outputs": [
    {
     "ename": "ZeroDivisionError",
     "evalue": "division by zero",
     "output_type": "error",
     "traceback": [
      "\u001b[0;31m---------------------------------------------------------------------------\u001b[0m",
      "\u001b[0;31mZeroDivisionError\u001b[0m                         Traceback (most recent call last)",
      "\u001b[0;32m<ipython-input-4-3085919f240b>\u001b[0m in \u001b[0;36m<module>\u001b[0;34m\u001b[0m\n\u001b[0;32m----> 1\u001b[0;31m \u001b[0mvarx\u001b[0m\u001b[0;34m/\u001b[0m\u001b[0mvary\u001b[0m\u001b[0;34m\u001b[0m\u001b[0;34m\u001b[0m\u001b[0m\n\u001b[0m",
      "\u001b[0;31mZeroDivisionError\u001b[0m: division by zero"
     ]
    }
   ],
   "source": [
    "varx/vary"
   ]
  },
  {
   "cell_type": "code",
   "execution_count": 7,
   "metadata": {},
   "outputs": [
    {
     "name": "stdout",
     "output_type": "stream",
     "text": [
      "you can not divide by zero, equating vary to 1\n",
      "so now varz = 10.0\n",
      "code continues\n"
     ]
    }
   ],
   "source": [
    "try:\n",
    "    varz = varx/vary\n",
    "    print(\"varz =\", varz)\n",
    "except ZeroDivisionError:\n",
    "    print(\"you can not divide by zero, equating vary to 1\")\n",
    "    print(\"so now varz =\", varx/1)\n",
    "    \n",
    "print(\"code continues\")"
   ]
  },
  {
   "cell_type": "code",
   "execution_count": 8,
   "metadata": {},
   "outputs": [
    {
     "ename": "NameError",
     "evalue": "name 'varw' is not defined",
     "output_type": "error",
     "traceback": [
      "\u001b[0;31m---------------------------------------------------------------------------\u001b[0m",
      "\u001b[0;31mNameError\u001b[0m                                 Traceback (most recent call last)",
      "\u001b[0;32m<ipython-input-8-5983967eb233>\u001b[0m in \u001b[0;36m<module>\u001b[0;34m\u001b[0m\n\u001b[1;32m      3\u001b[0m \u001b[0;32mtry\u001b[0m\u001b[0;34m:\u001b[0m\u001b[0;34m\u001b[0m\u001b[0;34m\u001b[0m\u001b[0m\n\u001b[1;32m      4\u001b[0m     \u001b[0mvarz\u001b[0m \u001b[0;34m=\u001b[0m \u001b[0mvarx\u001b[0m\u001b[0;34m/\u001b[0m\u001b[0mvary\u001b[0m\u001b[0;34m\u001b[0m\u001b[0;34m\u001b[0m\u001b[0m\n\u001b[0;32m----> 5\u001b[0;31m     \u001b[0mprint\u001b[0m\u001b[0;34m(\u001b[0m\u001b[0;34m\"varz =\"\u001b[0m\u001b[0;34m,\u001b[0m \u001b[0mvarw\u001b[0m\u001b[0;34m)\u001b[0m\u001b[0;34m\u001b[0m\u001b[0;34m\u001b[0m\u001b[0m\n\u001b[0m\u001b[1;32m      6\u001b[0m \u001b[0;32mexcept\u001b[0m \u001b[0mZeroDivisionError\u001b[0m\u001b[0;34m:\u001b[0m\u001b[0;34m\u001b[0m\u001b[0;34m\u001b[0m\u001b[0m\n\u001b[1;32m      7\u001b[0m     \u001b[0mprint\u001b[0m\u001b[0;34m(\u001b[0m\u001b[0;34m\"you can not divide by zero, equating vary to 1\"\u001b[0m\u001b[0;34m)\u001b[0m\u001b[0;34m\u001b[0m\u001b[0;34m\u001b[0m\u001b[0m\n",
      "\u001b[0;31mNameError\u001b[0m: name 'varw' is not defined"
     ]
    }
   ],
   "source": [
    "vary = 5\n",
    "\n",
    "try:\n",
    "    varz = varx/vary\n",
    "    print(\"varz =\", varw)\n",
    "except ZeroDivisionError:\n",
    "    print(\"you can not divide by zero, equating vary to 1\")\n",
    "    print(\"so now varz =\", varx/1)\n",
    "    \n",
    "print(\"code continues\")"
   ]
  },
  {
   "cell_type": "code",
   "execution_count": 9,
   "metadata": {},
   "outputs": [
    {
     "name": "stdout",
     "output_type": "stream",
     "text": [
      "check the names of your variables\n",
      "code continues\n"
     ]
    }
   ],
   "source": [
    "vary = 5\n",
    "\n",
    "try:\n",
    "    varz = varx/vary\n",
    "    print(\"varz =\", varw)\n",
    "except ZeroDivisionError:\n",
    "    print(\"you can not divide by zero, equating vary to 1\")\n",
    "    print(\"so now varz =\", varx/1)\n",
    "except NameError:\n",
    "    print(\"check the names of your variables\")\n",
    "    \n",
    "print(\"code continues\")"
   ]
  },
  {
   "cell_type": "code",
   "execution_count": 10,
   "metadata": {},
   "outputs": [
    {
     "name": "stdout",
     "output_type": "stream",
     "text": [
      "4\n",
      "val = ee\n",
      "code continues\n"
     ]
    }
   ],
   "source": [
    "lista = ['aa', 'bb', 'ff', 'yy', 'ee', 'ss']\n",
    "\n",
    "try:\n",
    "    index = int(input())\n",
    "    val = lista[index]\n",
    "    print(\"val =\", val)\n",
    "except IndexError:\n",
    "    print(\"gone wrong with index\")\n",
    "    # code for handling the error/exception\n",
    "    \n",
    "print(\"code continues\")"
   ]
  },
  {
   "cell_type": "code",
   "execution_count": 11,
   "metadata": {},
   "outputs": [
    {
     "name": "stdout",
     "output_type": "stream",
     "text": [
      "11\n",
      "gone wrong with index\n",
      "code continues\n"
     ]
    }
   ],
   "source": [
    "lista = ['aa', 'bb', 'ff', 'yy', 'ee', 'ss']\n",
    "\n",
    "try:\n",
    "    index = int(input())\n",
    "    val = lista[index]\n",
    "    print(\"val =\", val)\n",
    "except IndexError:\n",
    "    print(\"gone wrong with index\")\n",
    "    # code for handling the error/exception\n",
    "    \n",
    "print(\"code continues\")"
   ]
  },
  {
   "cell_type": "code",
   "execution_count": 12,
   "metadata": {},
   "outputs": [
    {
     "name": "stdout",
     "output_type": "stream",
     "text": [
      "hi\n"
     ]
    },
    {
     "ename": "ValueError",
     "evalue": "invalid literal for int() with base 10: 'hi'",
     "output_type": "error",
     "traceback": [
      "\u001b[0;31m---------------------------------------------------------------------------\u001b[0m",
      "\u001b[0;31mValueError\u001b[0m                                Traceback (most recent call last)",
      "\u001b[0;32m<ipython-input-12-06507788acb6>\u001b[0m in \u001b[0;36m<module>\u001b[0;34m\u001b[0m\n\u001b[1;32m      2\u001b[0m \u001b[0;34m\u001b[0m\u001b[0m\n\u001b[1;32m      3\u001b[0m \u001b[0;32mtry\u001b[0m\u001b[0;34m:\u001b[0m\u001b[0;34m\u001b[0m\u001b[0;34m\u001b[0m\u001b[0m\n\u001b[0;32m----> 4\u001b[0;31m     \u001b[0mindex\u001b[0m \u001b[0;34m=\u001b[0m \u001b[0mint\u001b[0m\u001b[0;34m(\u001b[0m\u001b[0minput\u001b[0m\u001b[0;34m(\u001b[0m\u001b[0;34m)\u001b[0m\u001b[0;34m)\u001b[0m\u001b[0;34m\u001b[0m\u001b[0;34m\u001b[0m\u001b[0m\n\u001b[0m\u001b[1;32m      5\u001b[0m     \u001b[0mval\u001b[0m \u001b[0;34m=\u001b[0m \u001b[0mlista\u001b[0m\u001b[0;34m[\u001b[0m\u001b[0mindex\u001b[0m\u001b[0;34m]\u001b[0m\u001b[0;34m\u001b[0m\u001b[0;34m\u001b[0m\u001b[0m\n\u001b[1;32m      6\u001b[0m     \u001b[0mprint\u001b[0m\u001b[0;34m(\u001b[0m\u001b[0;34m\"val =\"\u001b[0m\u001b[0;34m,\u001b[0m \u001b[0mval\u001b[0m\u001b[0;34m)\u001b[0m\u001b[0;34m\u001b[0m\u001b[0;34m\u001b[0m\u001b[0m\n",
      "\u001b[0;31mValueError\u001b[0m: invalid literal for int() with base 10: 'hi'"
     ]
    }
   ],
   "source": [
    "lista = ['aa', 'bb', 'ff', 'yy', 'ee', 'ss']\n",
    "\n",
    "try:\n",
    "    index = int(input())\n",
    "    val = lista[index]\n",
    "    print(\"val =\", val)\n",
    "except IndexError:\n",
    "    print(\"gone wrong with index\")\n",
    "    # code for handling the error/exception\n",
    "    \n",
    "print(\"code continues\")"
   ]
  },
  {
   "cell_type": "code",
   "execution_count": 13,
   "metadata": {},
   "outputs": [
    {
     "name": "stdout",
     "output_type": "stream",
     "text": [
      "uy\n",
      "something went wrong, not sure what\n",
      "code continues\n"
     ]
    }
   ],
   "source": [
    "lista = ['aa', 'bb', 'ff', 'yy', 'ee', 'ss']\n",
    "\n",
    "try:\n",
    "    index = int(input())\n",
    "    val = lista[index]\n",
    "    print(\"val =\", val)\n",
    "except IndexError:\n",
    "    print(\"gone wrong with index\")\n",
    "    # code for handling the error/exception\n",
    "except:\n",
    "    print(\"something went wrong, not sure what\")\n",
    "    \n",
    "print(\"code continues\")"
   ]
  },
  {
   "cell_type": "code",
   "execution_count": 15,
   "metadata": {},
   "outputs": [
    {
     "ename": "SyntaxError",
     "evalue": "invalid syntax (<ipython-input-15-c96414e376b6>, line 7)",
     "output_type": "error",
     "traceback": [
      "\u001b[0;36m  File \u001b[0;32m\"<ipython-input-15-c96414e376b6>\"\u001b[0;36m, line \u001b[0;32m7\u001b[0m\n\u001b[0;31m    print(\"hello\")\u001b[0m\n\u001b[0m        ^\u001b[0m\n\u001b[0;31mSyntaxError\u001b[0m\u001b[0;31m:\u001b[0m invalid syntax\n"
     ]
    }
   ],
   "source": [
    "lista = ['aa', 'bb', 'ff', 'yy', 'ee', 'ss']\n",
    "\n",
    "try:\n",
    "    index = int(input())\n",
    "    val = lista[index]\n",
    "    print(\"val =\", val)\n",
    "print(\"hello\")\n",
    "except IndexError:\n",
    "    print(\"gone wrong with index\")\n",
    "    # code for handling the error/exception\n",
    "except:\n",
    "    print(\"something went wrong, not sure what\")\n",
    "\n",
    "    \n",
    "print(\"code continues\")"
   ]
  },
  {
   "cell_type": "code",
   "execution_count": 17,
   "metadata": {},
   "outputs": [
    {
     "name": "stdout",
     "output_type": "stream",
     "text": [
      "3\n",
      "inner exception\n",
      "code continues\n"
     ]
    }
   ],
   "source": [
    "lista = ['aa', 'bb', 'ff', 'yy', 'ee', 'ss']\n",
    "\n",
    "try:\n",
    "    index = int(input())\n",
    "    try:\n",
    "        val = lista[ind]\n",
    "        print(\"val =\", val)\n",
    "    except NameError:\n",
    "        print(\"inner exception\")\n",
    "except IndexError:\n",
    "    print(\"gone wrong with index\")\n",
    "    # code for handling the error/exception\n",
    "except:\n",
    "    print(\"something went wrong, not sure what\")\n",
    "\n",
    "    \n",
    "print(\"code continues\")"
   ]
  },
  {
   "cell_type": "code",
   "execution_count": 18,
   "metadata": {},
   "outputs": [
    {
     "name": "stdout",
     "output_type": "stream",
     "text": [
      "11\n",
      "gone wrong with index\n",
      "code continues\n"
     ]
    }
   ],
   "source": [
    "lista = ['aa', 'bb', 'ff', 'yy', 'ee', 'ss']\n",
    "\n",
    "try:\n",
    "    try:\n",
    "        index = int(input())\n",
    "        val = lista[index]\n",
    "        print(\"val =\", val)\n",
    "    except NameError:\n",
    "        print(\"inner exception\")\n",
    "except IndexError:\n",
    "    print(\"gone wrong with index\")\n",
    "    # code for handling the error/exception\n",
    "except:\n",
    "    print(\"something went wrong, not sure what\")\n",
    "\n",
    "    \n",
    "print(\"code continues\")"
   ]
  },
  {
   "cell_type": "code",
   "execution_count": 19,
   "metadata": {},
   "outputs": [],
   "source": [
    "def funca(la, lb):\n",
    "    try:\n",
    "        lc = la/lb\n",
    "        return lc\n",
    "    except ZeroDivisionError:\n",
    "        print(\"passed a zero value\")\n",
    "        return None"
   ]
  },
  {
   "cell_type": "code",
   "execution_count": 22,
   "metadata": {},
   "outputs": [
    {
     "name": "stdout",
     "output_type": "stream",
     "text": [
      "something else went wrong\n"
     ]
    }
   ],
   "source": [
    "try:\n",
    "    x = funca(10, \"hi\")\n",
    "    print(\"x =\", x)\n",
    "except:\n",
    "    print(\"something else went wrong\")"
   ]
  },
  {
   "cell_type": "code",
   "execution_count": 23,
   "metadata": {},
   "outputs": [
    {
     "name": "stdout",
     "output_type": "stream",
     "text": [
      "11\n",
      "gone wrong with index\n",
      "executing the finally block\n",
      "code continues\n"
     ]
    }
   ],
   "source": [
    "lista = ['aa', 'bb', 'ff', 'yy', 'ee', 'ss']\n",
    "\n",
    "try:\n",
    "    index = int(input())\n",
    "    val = lista[index]\n",
    "    print(\"val =\", val)\n",
    "except IndexError:\n",
    "    print(\"gone wrong with index\")\n",
    "    # code for handling the error/exception\n",
    "else:\n",
    "    print(\"executing the else block\")\n",
    "finally:\n",
    "    print(\"executing the finally block\")\n",
    "\n",
    "    \n",
    "print(\"code continues\")"
   ]
  },
  {
   "cell_type": "code",
   "execution_count": 24,
   "metadata": {},
   "outputs": [
    {
     "name": "stdout",
     "output_type": "stream",
     "text": [
      "hi\n",
      "executing the finally block\n"
     ]
    },
    {
     "ename": "ValueError",
     "evalue": "invalid literal for int() with base 10: 'hi'",
     "output_type": "error",
     "traceback": [
      "\u001b[0;31m---------------------------------------------------------------------------\u001b[0m",
      "\u001b[0;31mValueError\u001b[0m                                Traceback (most recent call last)",
      "\u001b[0;32m<ipython-input-24-a5b3b93a9f70>\u001b[0m in \u001b[0;36m<module>\u001b[0;34m\u001b[0m\n\u001b[1;32m      2\u001b[0m \u001b[0;34m\u001b[0m\u001b[0m\n\u001b[1;32m      3\u001b[0m \u001b[0;32mtry\u001b[0m\u001b[0;34m:\u001b[0m\u001b[0;34m\u001b[0m\u001b[0;34m\u001b[0m\u001b[0m\n\u001b[0;32m----> 4\u001b[0;31m     \u001b[0mindex\u001b[0m \u001b[0;34m=\u001b[0m \u001b[0mint\u001b[0m\u001b[0;34m(\u001b[0m\u001b[0minput\u001b[0m\u001b[0;34m(\u001b[0m\u001b[0;34m)\u001b[0m\u001b[0;34m)\u001b[0m\u001b[0;34m\u001b[0m\u001b[0;34m\u001b[0m\u001b[0m\n\u001b[0m\u001b[1;32m      5\u001b[0m     \u001b[0mval\u001b[0m \u001b[0;34m=\u001b[0m \u001b[0mlista\u001b[0m\u001b[0;34m[\u001b[0m\u001b[0mindex\u001b[0m\u001b[0;34m]\u001b[0m\u001b[0;34m\u001b[0m\u001b[0;34m\u001b[0m\u001b[0m\n\u001b[1;32m      6\u001b[0m     \u001b[0mprint\u001b[0m\u001b[0;34m(\u001b[0m\u001b[0;34m\"val =\"\u001b[0m\u001b[0;34m,\u001b[0m \u001b[0mval\u001b[0m\u001b[0;34m)\u001b[0m\u001b[0;34m\u001b[0m\u001b[0;34m\u001b[0m\u001b[0m\n",
      "\u001b[0;31mValueError\u001b[0m: invalid literal for int() with base 10: 'hi'"
     ]
    }
   ],
   "source": [
    "lista = ['aa', 'bb', 'ff', 'yy', 'ee', 'ss']\n",
    "\n",
    "try:\n",
    "    index = int(input())\n",
    "    val = lista[index]\n",
    "    print(\"val =\", val)\n",
    "except IndexError:\n",
    "    print(\"gone wrong with index\")\n",
    "    # code for handling the error/exception\n",
    "else:\n",
    "    print(\"executing the else block\")\n",
    "finally:\n",
    "    print(\"executing the finally block\")\n",
    "\n",
    "    \n",
    "print(\"code continues\")"
   ]
  },
  {
   "cell_type": "code",
   "execution_count": 25,
   "metadata": {},
   "outputs": [
    {
     "name": "stdout",
     "output_type": "stream",
     "text": [
      "3\n",
      "val = yy\n",
      "executing the else block\n",
      "executing the finally block\n",
      "code continues\n"
     ]
    }
   ],
   "source": [
    "lista = ['aa', 'bb', 'ff', 'yy', 'ee', 'ss']\n",
    "\n",
    "try:\n",
    "    index = int(input())\n",
    "    val = lista[index]\n",
    "    print(\"val =\", val)\n",
    "except IndexError:\n",
    "    print(\"gone wrong with index\")\n",
    "    # code for handling the error/exception\n",
    "else:\n",
    "    print(\"executing the else block\")\n",
    "finally:\n",
    "    print(\"executing the finally block\")\n",
    "\n",
    "    \n",
    "print(\"code continues\")"
   ]
  },
  {
   "cell_type": "code",
   "execution_count": 26,
   "metadata": {},
   "outputs": [
    {
     "name": "stdout",
     "output_type": "stream",
     "text": [
      "hi\n",
      "hi\n",
      "hi\n",
      "hi\n"
     ]
    },
    {
     "ename": "KeyboardInterrupt",
     "evalue": "",
     "output_type": "error",
     "traceback": [
      "\u001b[0;31m---------------------------------------------------------------------------\u001b[0m",
      "\u001b[0;31mKeyboardInterrupt\u001b[0m                         Traceback (most recent call last)",
      "\u001b[0;32m<ipython-input-26-7ed652b57139>\u001b[0m in \u001b[0;36m<module>\u001b[0;34m\u001b[0m\n\u001b[1;32m      3\u001b[0m \u001b[0;32mwhile\u001b[0m\u001b[0;34m(\u001b[0m\u001b[0;32mTrue\u001b[0m\u001b[0;34m)\u001b[0m\u001b[0;34m:\u001b[0m\u001b[0;34m\u001b[0m\u001b[0;34m\u001b[0m\u001b[0m\n\u001b[1;32m      4\u001b[0m     \u001b[0mprint\u001b[0m\u001b[0;34m(\u001b[0m\u001b[0;34m\"hi\"\u001b[0m\u001b[0;34m)\u001b[0m\u001b[0;34m\u001b[0m\u001b[0;34m\u001b[0m\u001b[0m\n\u001b[0;32m----> 5\u001b[0;31m     \u001b[0mtime\u001b[0m\u001b[0;34m.\u001b[0m\u001b[0msleep\u001b[0m\u001b[0;34m(\u001b[0m\u001b[0;36m2\u001b[0m\u001b[0;34m)\u001b[0m\u001b[0;34m\u001b[0m\u001b[0;34m\u001b[0m\u001b[0m\n\u001b[0m",
      "\u001b[0;31mKeyboardInterrupt\u001b[0m: "
     ]
    }
   ],
   "source": [
    "import time\n",
    "\n",
    "while(True):\n",
    "    print(\"hi\")\n",
    "    time.sleep(2)"
   ]
  },
  {
   "cell_type": "code",
   "execution_count": 28,
   "metadata": {},
   "outputs": [
    {
     "name": "stdout",
     "output_type": "stream",
     "text": [
      "enter a positive value: -12\n",
      "rcvd data = negative number\n"
     ]
    }
   ],
   "source": [
    "try:\n",
    "    x = int(input(\"enter a positive value: \"))\n",
    "    if x <= 0:\n",
    "        raise ValueError(\"negative number\")\n",
    "    else:\n",
    "        print(\"go ahead with code\")\n",
    "except ValueError as data:\n",
    "    print(\"rcvd data =\", data)"
   ]
  },
  {
   "cell_type": "code",
   "execution_count": 29,
   "metadata": {},
   "outputs": [],
   "source": [
    "class AppError(Exception):\n",
    "    \"base class for exceptions\"\n",
    "    pass\n",
    "\n",
    "class TooLarge(AppError):\n",
    "    \"\"\"value too large\"\"\"\n",
    "    pass\n",
    "\n",
    "class TooSmall(AppError):\n",
    "    \"\"\"value too small\"\"\"\n",
    "    pass\n",
    "\n",
    "value = 20"
   ]
  },
  {
   "cell_type": "code",
   "execution_count": 30,
   "metadata": {},
   "outputs": [
    {
     "name": "stdout",
     "output_type": "stream",
     "text": [
      "\n",
      "enter a number:\n",
      "30\n",
      "value too large\n",
      "\n",
      "enter a number:\n",
      "5\n",
      "value too small\n",
      "\n",
      "enter a number:\n",
      "10\n",
      "value too small\n",
      "\n",
      "enter a number:\n",
      "15\n",
      "value too small\n",
      "\n",
      "enter a number:\n",
      "20\n",
      "you got it right !!!\n"
     ]
    }
   ],
   "source": [
    "while True:\n",
    "    try:\n",
    "        num = int(input(\"\\nenter a number:\\n\"))\n",
    "        if num < value:\n",
    "            raise TooSmall\n",
    "        elif num > value:\n",
    "            raise TooLarge\n",
    "        else:\n",
    "            break\n",
    "    except TooLarge:\n",
    "        print(TooLarge.__doc__)\n",
    "    except TooSmall:\n",
    "        print(TooSmall.__doc__)\n",
    "        \n",
    "print(\"you got it right !!!\")"
   ]
  },
  {
   "cell_type": "code",
   "execution_count": null,
   "metadata": {},
   "outputs": [],
   "source": [
    "while True:\n",
    "    try:\n",
    "        num = int(input(\"\\nenter a number:\\n\"))\n",
    "        if num < value:\n",
    "            raise TooSmall\n",
    "        elif num > value:\n",
    "            raise TooLarge\n",
    "        else:\n",
    "            break\n",
    "    except TooLarge:\n",
    "        print(TooLarge.__doc__)\n",
    "    except TooSmall:\n",
    "        print(TooSmall.__doc__) \n",
    "        \n",
    "print(\"you got it right !!!\")"
   ]
  }
 ],
 "metadata": {
  "kernelspec": {
   "display_name": "Python 3",
   "language": "python",
   "name": "python3"
  },
  "language_info": {
   "codemirror_mode": {
    "name": "ipython",
    "version": 3
   },
   "file_extension": ".py",
   "mimetype": "text/x-python",
   "name": "python",
   "nbconvert_exporter": "python",
   "pygments_lexer": "ipython3",
   "version": "3.7.7"
  }
 },
 "nbformat": 4,
 "nbformat_minor": 4
}
