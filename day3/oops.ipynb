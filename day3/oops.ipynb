{
 "cells": [
  {
   "cell_type": "code",
   "execution_count": 1,
   "metadata": {},
   "outputs": [],
   "source": [
    "class windows:\n",
    "    data_a = 23\n",
    "    \n",
    "    def funca(rrr):\n",
    "        print(\"in func a\")"
   ]
  },
  {
   "cell_type": "code",
   "execution_count": 2,
   "metadata": {},
   "outputs": [],
   "source": [
    "objw = windows()"
   ]
  },
  {
   "cell_type": "code",
   "execution_count": 3,
   "metadata": {},
   "outputs": [
    {
     "data": {
      "text/plain": [
       "23"
      ]
     },
     "execution_count": 3,
     "metadata": {},
     "output_type": "execute_result"
    }
   ],
   "source": [
    "objw.data_a"
   ]
  },
  {
   "cell_type": "code",
   "execution_count": 4,
   "metadata": {},
   "outputs": [
    {
     "data": {
      "text/plain": [
       "23"
      ]
     },
     "execution_count": 4,
     "metadata": {},
     "output_type": "execute_result"
    }
   ],
   "source": [
    "windows.data_a"
   ]
  },
  {
   "cell_type": "code",
   "execution_count": 6,
   "metadata": {},
   "outputs": [
    {
     "name": "stdout",
     "output_type": "stream",
     "text": [
      "in func a\n"
     ]
    }
   ],
   "source": [
    "objw.funca()\n",
    "\n",
    "#    objw.funca()\n",
    "#    windows.funca(obja)"
   ]
  },
  {
   "cell_type": "code",
   "execution_count": 7,
   "metadata": {},
   "outputs": [],
   "source": [
    "class windows:\n",
    "    data_a = 23\n",
    "    data_b = 33\n",
    "    \n",
    "    def display(self):\n",
    "        print(\"data a =\", self.data_a)\n",
    "        print(\"data a =\", self.data_b)"
   ]
  },
  {
   "cell_type": "code",
   "execution_count": 8,
   "metadata": {},
   "outputs": [],
   "source": [
    "objw = windows()\n",
    "objx = windows()"
   ]
  },
  {
   "cell_type": "code",
   "execution_count": 9,
   "metadata": {},
   "outputs": [
    {
     "name": "stdout",
     "output_type": "stream",
     "text": [
      "data a = 23\n",
      "data a = 33\n"
     ]
    }
   ],
   "source": [
    "objw.display()"
   ]
  },
  {
   "cell_type": "code",
   "execution_count": 10,
   "metadata": {},
   "outputs": [
    {
     "name": "stdout",
     "output_type": "stream",
     "text": [
      "data a = 23\n",
      "data a = 33\n"
     ]
    }
   ],
   "source": [
    "objx.display()"
   ]
  },
  {
   "cell_type": "code",
   "execution_count": 11,
   "metadata": {},
   "outputs": [],
   "source": [
    "objx.data_a = 100"
   ]
  },
  {
   "cell_type": "code",
   "execution_count": 12,
   "metadata": {},
   "outputs": [
    {
     "name": "stdout",
     "output_type": "stream",
     "text": [
      "data a = 23\n",
      "data a = 33\n"
     ]
    }
   ],
   "source": [
    "objw.display()"
   ]
  },
  {
   "cell_type": "code",
   "execution_count": 13,
   "metadata": {},
   "outputs": [
    {
     "name": "stdout",
     "output_type": "stream",
     "text": [
      "data a = 100\n",
      "data a = 33\n"
     ]
    }
   ],
   "source": [
    "objx.display()"
   ]
  },
  {
   "cell_type": "code",
   "execution_count": 14,
   "metadata": {},
   "outputs": [],
   "source": [
    "class windows:\n",
    "    data_a = 23\n",
    "    data_b = 33\n",
    "    \n",
    "    def display(self, ca, cb):\n",
    "        print(\"data a =\", self.data_a)\n",
    "        print(\"data a =\", self.data_b)"
   ]
  },
  {
   "cell_type": "code",
   "execution_count": 16,
   "metadata": {},
   "outputs": [
    {
     "name": "stdout",
     "output_type": "stream",
     "text": [
      "data a = 23\n",
      "data a = 33\n"
     ]
    }
   ],
   "source": [
    "objw = windows()\n",
    "objx = windows()\n",
    "\n",
    "objx.display(100, 200)"
   ]
  },
  {
   "cell_type": "code",
   "execution_count": 17,
   "metadata": {},
   "outputs": [],
   "source": [
    "class windows:\n",
    "    data_a = 23\n",
    "    data_b = 33\n",
    "    \n",
    "    def display(self):\n",
    "        print(\"data a =\", self.data_a)\n",
    "        print(\"data a =\", self.data_b)\n",
    "        \n",
    "    def add(self, val):\n",
    "        print(\"creating one more data\")\n",
    "        self.data_c =  val"
   ]
  },
  {
   "cell_type": "code",
   "execution_count": 18,
   "metadata": {},
   "outputs": [],
   "source": [
    "objw = windows()\n",
    "objx = windows()"
   ]
  },
  {
   "cell_type": "code",
   "execution_count": 19,
   "metadata": {},
   "outputs": [
    {
     "name": "stdout",
     "output_type": "stream",
     "text": [
      "data a = 23\n",
      "data a = 33\n"
     ]
    }
   ],
   "source": [
    "objw.display()"
   ]
  },
  {
   "cell_type": "code",
   "execution_count": 20,
   "metadata": {},
   "outputs": [
    {
     "name": "stdout",
     "output_type": "stream",
     "text": [
      "data a = 23\n",
      "data a = 33\n"
     ]
    }
   ],
   "source": [
    "objx.display()"
   ]
  },
  {
   "cell_type": "code",
   "execution_count": 21,
   "metadata": {},
   "outputs": [
    {
     "name": "stdout",
     "output_type": "stream",
     "text": [
      "creating one more data\n"
     ]
    }
   ],
   "source": [
    "objx.add(44)"
   ]
  },
  {
   "cell_type": "code",
   "execution_count": 22,
   "metadata": {},
   "outputs": [
    {
     "data": {
      "text/plain": [
       "44"
      ]
     },
     "execution_count": 22,
     "metadata": {},
     "output_type": "execute_result"
    }
   ],
   "source": [
    "objx.data_c"
   ]
  },
  {
   "cell_type": "code",
   "execution_count": 23,
   "metadata": {},
   "outputs": [
    {
     "ename": "AttributeError",
     "evalue": "'windows' object has no attribute 'data_c'",
     "output_type": "error",
     "traceback": [
      "\u001b[0;31m---------------------------------------------------------------------------\u001b[0m",
      "\u001b[0;31mAttributeError\u001b[0m                            Traceback (most recent call last)",
      "\u001b[0;32m<ipython-input-23-62b34caec927>\u001b[0m in \u001b[0;36m<module>\u001b[0;34m\u001b[0m\n\u001b[0;32m----> 1\u001b[0;31m \u001b[0mobjw\u001b[0m\u001b[0;34m.\u001b[0m\u001b[0mdata_c\u001b[0m\u001b[0;34m\u001b[0m\u001b[0;34m\u001b[0m\u001b[0m\n\u001b[0m",
      "\u001b[0;31mAttributeError\u001b[0m: 'windows' object has no attribute 'data_c'"
     ]
    }
   ],
   "source": [
    "objw.data_c"
   ]
  },
  {
   "cell_type": "code",
   "execution_count": 24,
   "metadata": {},
   "outputs": [],
   "source": [
    "objy = windows()"
   ]
  },
  {
   "cell_type": "code",
   "execution_count": 25,
   "metadata": {},
   "outputs": [],
   "source": [
    "#   cow "
   ]
  },
  {
   "cell_type": "code",
   "execution_count": 26,
   "metadata": {},
   "outputs": [],
   "source": [
    "class windows:\n",
    "    def add(self, vala, valb):\n",
    "        print(\"creating some data\")\n",
    "        self.data_a =  vala\n",
    "        self.data_b =  valb\n",
    "    \n",
    "    def display(self):\n",
    "        print(\"data a =\", self.data_a)\n",
    "        print(\"data a =\", self.data_b)"
   ]
  },
  {
   "cell_type": "code",
   "execution_count": 27,
   "metadata": {},
   "outputs": [],
   "source": [
    "objw = windows()\n",
    "objx = windows()"
   ]
  },
  {
   "cell_type": "code",
   "execution_count": 29,
   "metadata": {},
   "outputs": [
    {
     "name": "stdout",
     "output_type": "stream",
     "text": [
      "creating some data\n",
      "data a = 100\n",
      "data a = 200\n"
     ]
    }
   ],
   "source": [
    "objx.add(100, 200)\n",
    "objx.display()"
   ]
  },
  {
   "cell_type": "code",
   "execution_count": 30,
   "metadata": {},
   "outputs": [],
   "source": [
    "objx.data_c = 300"
   ]
  },
  {
   "cell_type": "code",
   "execution_count": 31,
   "metadata": {},
   "outputs": [],
   "source": [
    "class windows:\n",
    "    def __init__(self, vala, valb):\n",
    "        print(\"creating some data\")\n",
    "        self.data_a =  vala\n",
    "        self.data_b =  valb\n",
    "    \n",
    "    def display(self):\n",
    "        print(\"data a =\", self.data_a)\n",
    "        print(\"data a =\", self.data_b)"
   ]
  },
  {
   "cell_type": "code",
   "execution_count": 32,
   "metadata": {},
   "outputs": [
    {
     "name": "stdout",
     "output_type": "stream",
     "text": [
      "creating some data\n",
      "creating some data\n"
     ]
    }
   ],
   "source": [
    "objw = windows(111, 222)\n",
    "objx = windows(999, 888)"
   ]
  },
  {
   "cell_type": "code",
   "execution_count": 33,
   "metadata": {},
   "outputs": [
    {
     "name": "stdout",
     "output_type": "stream",
     "text": [
      "data a = 999\n",
      "data a = 888\n"
     ]
    }
   ],
   "source": [
    "objx.display()"
   ]
  },
  {
   "cell_type": "code",
   "execution_count": 34,
   "metadata": {},
   "outputs": [],
   "source": [
    "class windows:\n",
    "    def __init__(self, vala=0, valb=0):\n",
    "        print(\"creating some data\")\n",
    "        self.data_a =  vala\n",
    "        self.data_b =  valb\n",
    "    \n",
    "    def display(self):\n",
    "        print(\"data a =\", self.data_a)\n",
    "        print(\"data a =\", self.data_b)"
   ]
  },
  {
   "cell_type": "code",
   "execution_count": 35,
   "metadata": {},
   "outputs": [
    {
     "name": "stdout",
     "output_type": "stream",
     "text": [
      "creating some data\n",
      "creating some data\n",
      "creating some data\n"
     ]
    }
   ],
   "source": [
    "objw = windows()\n",
    "objx = windows(999, 888)\n",
    "objy = windows(111)"
   ]
  },
  {
   "cell_type": "code",
   "execution_count": 36,
   "metadata": {},
   "outputs": [],
   "source": [
    "class windows:\n",
    "    def __init__(self, vala=0, valb=0):\n",
    "        print(\"creating some data\")\n",
    "        self.data_a =  vala\n",
    "        self.data_b =  valb\n",
    "    \n",
    "    def display(self):\n",
    "        print(\"data a =\", self.data_a)\n",
    "        print(\"data a =\", self.data_b)\n",
    "        \n",
    "    def __del__(self):\n",
    "        print(\"should be called during destruction\")"
   ]
  },
  {
   "cell_type": "code",
   "execution_count": 37,
   "metadata": {},
   "outputs": [
    {
     "name": "stdout",
     "output_type": "stream",
     "text": [
      "creating some data\n",
      "creating some data\n"
     ]
    }
   ],
   "source": [
    "objw = windows(111, 222)\n",
    "objx = windows(999, 888)"
   ]
  },
  {
   "cell_type": "code",
   "execution_count": 38,
   "metadata": {},
   "outputs": [
    {
     "name": "stdout",
     "output_type": "stream",
     "text": [
      "should be called during destruction\n"
     ]
    }
   ],
   "source": [
    "del objx"
   ]
  },
  {
   "cell_type": "code",
   "execution_count": 39,
   "metadata": {},
   "outputs": [],
   "source": [
    "del windows"
   ]
  },
  {
   "cell_type": "code",
   "execution_count": 40,
   "metadata": {},
   "outputs": [
    {
     "name": "stdout",
     "output_type": "stream",
     "text": [
      "data a = 111\n",
      "data a = 222\n"
     ]
    }
   ],
   "source": [
    "objw.display()"
   ]
  },
  {
   "cell_type": "code",
   "execution_count": 41,
   "metadata": {},
   "outputs": [
    {
     "ename": "NameError",
     "evalue": "name 'windows' is not defined",
     "output_type": "error",
     "traceback": [
      "\u001b[0;31m---------------------------------------------------------------------------\u001b[0m",
      "\u001b[0;31mNameError\u001b[0m                                 Traceback (most recent call last)",
      "\u001b[0;32m<ipython-input-41-7544f7223305>\u001b[0m in \u001b[0;36m<module>\u001b[0;34m\u001b[0m\n\u001b[0;32m----> 1\u001b[0;31m \u001b[0mwindows\u001b[0m\u001b[0;34m.\u001b[0m\u001b[0mdisplay\u001b[0m\u001b[0;34m(\u001b[0m\u001b[0;34m)\u001b[0m\u001b[0;34m\u001b[0m\u001b[0;34m\u001b[0m\u001b[0m\n\u001b[0m",
      "\u001b[0;31mNameError\u001b[0m: name 'windows' is not defined"
     ]
    }
   ],
   "source": [
    "windows.display()"
   ]
  },
  {
   "cell_type": "code",
   "execution_count": 42,
   "metadata": {},
   "outputs": [],
   "source": [
    "class windows:\n",
    "    def __init__(self, vala=0, valb=0):\n",
    "        self.data_a =  vala\n",
    "        self.data_b =  valb\n",
    "    \n",
    "    def display(self):\n",
    "        print(\"data a =\", self.data_a)\n",
    "        print(\"data a =\", self.data_b)"
   ]
  },
  {
   "cell_type": "code",
   "execution_count": 43,
   "metadata": {},
   "outputs": [
    {
     "name": "stdout",
     "output_type": "stream",
     "text": [
      "<class 'type'>\n"
     ]
    }
   ],
   "source": [
    "print(type(windows))"
   ]
  },
  {
   "cell_type": "code",
   "execution_count": 44,
   "metadata": {},
   "outputs": [],
   "source": [
    "class windows:\n",
    "    datau = 10\n",
    "    _datav = 20\n",
    "    __dataw = 30\n",
    "    __datax__ = 40\n",
    "    \n",
    "    def display(self):\n",
    "        print(\"data u =\", self.datau)\n",
    "        print(\"data v =\", self._datav)\n",
    "        print(\"data w =\", self.__dataw)\n",
    "        print(\"data x =\", self.__datax__)"
   ]
  },
  {
   "cell_type": "code",
   "execution_count": 45,
   "metadata": {},
   "outputs": [],
   "source": [
    "objx = windows()"
   ]
  },
  {
   "cell_type": "code",
   "execution_count": 46,
   "metadata": {},
   "outputs": [
    {
     "name": "stdout",
     "output_type": "stream",
     "text": [
      "data u = 10\n",
      "data v = 20\n"
     ]
    },
    {
     "ename": "AttributeError",
     "evalue": "'windows' object has no attribute '__dataw'",
     "output_type": "error",
     "traceback": [
      "\u001b[0;31m---------------------------------------------------------------------------\u001b[0m",
      "\u001b[0;31mAttributeError\u001b[0m                            Traceback (most recent call last)",
      "\u001b[0;32m<ipython-input-46-b23cd5a62a70>\u001b[0m in \u001b[0;36m<module>\u001b[0;34m\u001b[0m\n\u001b[1;32m      1\u001b[0m \u001b[0mprint\u001b[0m\u001b[0;34m(\u001b[0m\u001b[0;34m\"data u =\"\u001b[0m\u001b[0;34m,\u001b[0m \u001b[0mobjx\u001b[0m\u001b[0;34m.\u001b[0m\u001b[0mdatau\u001b[0m\u001b[0;34m)\u001b[0m\u001b[0;34m\u001b[0m\u001b[0;34m\u001b[0m\u001b[0m\n\u001b[1;32m      2\u001b[0m \u001b[0mprint\u001b[0m\u001b[0;34m(\u001b[0m\u001b[0;34m\"data v =\"\u001b[0m\u001b[0;34m,\u001b[0m \u001b[0mobjx\u001b[0m\u001b[0;34m.\u001b[0m\u001b[0m_datav\u001b[0m\u001b[0;34m)\u001b[0m\u001b[0;34m\u001b[0m\u001b[0;34m\u001b[0m\u001b[0m\n\u001b[0;32m----> 3\u001b[0;31m \u001b[0mprint\u001b[0m\u001b[0;34m(\u001b[0m\u001b[0;34m\"data w =\"\u001b[0m\u001b[0;34m,\u001b[0m \u001b[0mobjx\u001b[0m\u001b[0;34m.\u001b[0m\u001b[0m__dataw\u001b[0m\u001b[0;34m)\u001b[0m\u001b[0;34m\u001b[0m\u001b[0;34m\u001b[0m\u001b[0m\n\u001b[0m\u001b[1;32m      4\u001b[0m \u001b[0mprint\u001b[0m\u001b[0;34m(\u001b[0m\u001b[0;34m\"data x =\"\u001b[0m\u001b[0;34m,\u001b[0m \u001b[0mobjx\u001b[0m\u001b[0;34m.\u001b[0m\u001b[0m__datax__\u001b[0m\u001b[0;34m)\u001b[0m\u001b[0;34m\u001b[0m\u001b[0;34m\u001b[0m\u001b[0m\n",
      "\u001b[0;31mAttributeError\u001b[0m: 'windows' object has no attribute '__dataw'"
     ]
    }
   ],
   "source": [
    "print(\"data u =\", objx.datau)\n",
    "print(\"data v =\", objx._datav)\n",
    "print(\"data w =\", objx.__dataw)\n",
    "print(\"data x =\", objx.__datax__)"
   ]
  },
  {
   "cell_type": "code",
   "execution_count": 47,
   "metadata": {},
   "outputs": [
    {
     "name": "stdout",
     "output_type": "stream",
     "text": [
      "data x = 40\n"
     ]
    }
   ],
   "source": [
    "print(\"data x =\", objx.__datax__)"
   ]
  },
  {
   "cell_type": "code",
   "execution_count": 48,
   "metadata": {},
   "outputs": [
    {
     "name": "stdout",
     "output_type": "stream",
     "text": [
      "data u = 10\n",
      "data v = 20\n",
      "data w = 30\n",
      "data x = 40\n"
     ]
    }
   ],
   "source": [
    "objx.display()"
   ]
  },
  {
   "cell_type": "code",
   "execution_count": 50,
   "metadata": {},
   "outputs": [
    {
     "ename": "AttributeError",
     "evalue": "type object 'windows' has no attribute '__dataw'",
     "output_type": "error",
     "traceback": [
      "\u001b[0;31m---------------------------------------------------------------------------\u001b[0m",
      "\u001b[0;31mAttributeError\u001b[0m                            Traceback (most recent call last)",
      "\u001b[0;32m<ipython-input-50-7d2d762bec92>\u001b[0m in \u001b[0;36m<module>\u001b[0;34m\u001b[0m\n\u001b[0;32m----> 1\u001b[0;31m \u001b[0mwindows\u001b[0m\u001b[0;34m.\u001b[0m\u001b[0m__dataw\u001b[0m\u001b[0;34m\u001b[0m\u001b[0;34m\u001b[0m\u001b[0m\n\u001b[0m",
      "\u001b[0;31mAttributeError\u001b[0m: type object 'windows' has no attribute '__dataw'"
     ]
    }
   ],
   "source": [
    "windows.__dataw"
   ]
  },
  {
   "cell_type": "code",
   "execution_count": 51,
   "metadata": {},
   "outputs": [],
   "source": [
    "class windows:\n",
    "    datau = 10\n",
    "    _datav = 20\n",
    "    __dataw = 30\n",
    "    __datax__ = 40\n",
    "    \n",
    "    def display(self):\n",
    "        print(\"data u =\", self.datau)\n",
    "        print(\"data v =\", self._datav)\n",
    "        print(\"data w =\", self.__dataw)\n",
    "        print(\"data x =\", self.__datax__)\n",
    "        \n",
    "    def __funca(self):\n",
    "        print(\"private function\")"
   ]
  },
  {
   "cell_type": "code",
   "execution_count": 52,
   "metadata": {},
   "outputs": [],
   "source": [
    "objx = windows()"
   ]
  },
  {
   "cell_type": "code",
   "execution_count": 53,
   "metadata": {},
   "outputs": [
    {
     "ename": "AttributeError",
     "evalue": "'windows' object has no attribute '__funca'",
     "output_type": "error",
     "traceback": [
      "\u001b[0;31m---------------------------------------------------------------------------\u001b[0m",
      "\u001b[0;31mAttributeError\u001b[0m                            Traceback (most recent call last)",
      "\u001b[0;32m<ipython-input-53-a2c3dda0d27d>\u001b[0m in \u001b[0;36m<module>\u001b[0;34m\u001b[0m\n\u001b[0;32m----> 1\u001b[0;31m \u001b[0mobjx\u001b[0m\u001b[0;34m.\u001b[0m\u001b[0m__funca\u001b[0m\u001b[0;34m(\u001b[0m\u001b[0;34m)\u001b[0m\u001b[0;34m\u001b[0m\u001b[0;34m\u001b[0m\u001b[0m\n\u001b[0m",
      "\u001b[0;31mAttributeError\u001b[0m: 'windows' object has no attribute '__funca'"
     ]
    }
   ],
   "source": [
    "objx.__funca()"
   ]
  },
  {
   "cell_type": "markdown",
   "metadata": {},
   "source": [
    "### inheritance"
   ]
  },
  {
   "cell_type": "code",
   "execution_count": 55,
   "metadata": {},
   "outputs": [],
   "source": [
    "class unix():\n",
    "    def cmd(self):\n",
    "        print(\"great command line\")\n",
    "    \n",
    "    def secure(self):\n",
    "        print(\"rwx makes it secure\")"
   ]
  },
  {
   "cell_type": "code",
   "execution_count": 57,
   "metadata": {},
   "outputs": [],
   "source": [
    "class linux(unix):\n",
    "    def free(self):\n",
    "        print(\"open source & free\")"
   ]
  },
  {
   "cell_type": "code",
   "execution_count": 58,
   "metadata": {},
   "outputs": [],
   "source": [
    "obju = unix()\n",
    "objl = linux()"
   ]
  },
  {
   "cell_type": "code",
   "execution_count": 61,
   "metadata": {},
   "outputs": [],
   "source": [
    "class unix():\n",
    "    def __init__(self, a=0):\n",
    "        self.a = a\n",
    "        print(\"init of unix\")\n",
    "        \n",
    "    def cmd(self):\n",
    "        print(\"great command line\")\n",
    "    \n",
    "    def secure(self):\n",
    "        print(\"rwx makes it secure\")"
   ]
  },
  {
   "cell_type": "code",
   "execution_count": 62,
   "metadata": {},
   "outputs": [],
   "source": [
    "class linux(unix):\n",
    "    def free(self):\n",
    "        print(\"open source & free\")"
   ]
  },
  {
   "cell_type": "code",
   "execution_count": 63,
   "metadata": {},
   "outputs": [
    {
     "name": "stdout",
     "output_type": "stream",
     "text": [
      "init of unix\n"
     ]
    }
   ],
   "source": [
    "obju = unix()"
   ]
  },
  {
   "cell_type": "code",
   "execution_count": 64,
   "metadata": {},
   "outputs": [
    {
     "name": "stdout",
     "output_type": "stream",
     "text": [
      "init of unix\n"
     ]
    }
   ],
   "source": [
    "objl = linux()"
   ]
  },
  {
   "cell_type": "code",
   "execution_count": 65,
   "metadata": {},
   "outputs": [],
   "source": [
    "class unix():\n",
    "    def __init__(self, a=0):\n",
    "        self.a = a\n",
    "        print(\"init of unix\")\n",
    "        \n",
    "    def cmd(self):\n",
    "        print(\"great command line\")\n",
    "    \n",
    "    def secure(self):\n",
    "        print(\"rwx makes it secure\")\n",
    "        \n",
    "class linux(unix):\n",
    "    def __init__(self):\n",
    "        print(\"init of linux\")\n",
    "    \n",
    "    def free(self):\n",
    "        print(\"open source & free\")"
   ]
  },
  {
   "cell_type": "code",
   "execution_count": 66,
   "metadata": {},
   "outputs": [
    {
     "name": "stdout",
     "output_type": "stream",
     "text": [
      "init of unix\n"
     ]
    }
   ],
   "source": [
    "obju = unix()"
   ]
  },
  {
   "cell_type": "code",
   "execution_count": 67,
   "metadata": {},
   "outputs": [
    {
     "name": "stdout",
     "output_type": "stream",
     "text": [
      "init of linux\n"
     ]
    }
   ],
   "source": [
    "objl = linux()"
   ]
  },
  {
   "cell_type": "code",
   "execution_count": 68,
   "metadata": {},
   "outputs": [],
   "source": [
    "class unix():\n",
    "    def __init__(self, a=0):\n",
    "        self.a = a\n",
    "        print(\"init of unix\")\n",
    "        \n",
    "    def cmd(self):\n",
    "        print(\"great command line\")\n",
    "    \n",
    "    def secure(self):\n",
    "        print(\"rwx makes it secure\")\n",
    "        \n",
    "class linux(unix):\n",
    "    def __init__(self):\n",
    "        print(\"init of linux\")\n",
    "        super().__init__()\n",
    "    \n",
    "    def free(self):\n",
    "        print(\"open source & free\")"
   ]
  },
  {
   "cell_type": "code",
   "execution_count": 69,
   "metadata": {},
   "outputs": [
    {
     "name": "stdout",
     "output_type": "stream",
     "text": [
      "init of unix\n"
     ]
    }
   ],
   "source": [
    "obju = unix()"
   ]
  },
  {
   "cell_type": "code",
   "execution_count": 70,
   "metadata": {},
   "outputs": [
    {
     "name": "stdout",
     "output_type": "stream",
     "text": [
      "init of linux\n",
      "init of unix\n"
     ]
    }
   ],
   "source": [
    "objl = linux()"
   ]
  },
  {
   "cell_type": "code",
   "execution_count": 81,
   "metadata": {},
   "outputs": [],
   "source": [
    "class unix():\n",
    "    def cmd(self):\n",
    "        print(\"great command line\")\n",
    "    \n",
    "    def secure(self):\n",
    "        print(\"rwx makes it secure\")\n",
    "        \n",
    "class linux(unix):  \n",
    "    def free(self):\n",
    "        print(\"open source & free\")\n",
    "        \n",
    "        \n",
    "class mobileOS():\n",
    "    def portable():\n",
    "        print(\"is portable to hand held devices\")\n",
    "        \n",
    "class android(linux, mobileOS):\n",
    "    def popular():\n",
    "        print(\"quite popular\")"
   ]
  },
  {
   "cell_type": "code",
   "execution_count": 82,
   "metadata": {},
   "outputs": [],
   "source": [
    "obja = android()"
   ]
  },
  {
   "cell_type": "code",
   "execution_count": 83,
   "metadata": {},
   "outputs": [
    {
     "name": "stdout",
     "output_type": "stream",
     "text": [
      "rwx makes it secure\n"
     ]
    }
   ],
   "source": [
    "obja.secure()"
   ]
  },
  {
   "cell_type": "code",
   "execution_count": 90,
   "metadata": {},
   "outputs": [],
   "source": [
    "class unix():\n",
    "    def cmd(self):\n",
    "        print(\"great command line\")\n",
    "    \n",
    "    def secure(self):\n",
    "        print(\"rwx makes it secure\")\n",
    "        \n",
    "class linux(unix):  \n",
    "    def free(self):\n",
    "        print(\"open source & free\")\n",
    "        \n",
    "        \n",
    "class mobileOS():\n",
    "    def portable():\n",
    "        print(\"is portable to hand held devices\")\n",
    "        \n",
    "    def free(self):\n",
    "        print(\"free but not open source\")\n",
    "        \n",
    "class android(linux, mobileOS):\n",
    "    def popular(self):\n",
    "        print(\"quite popular\") "
   ]
  },
  {
   "cell_type": "code",
   "execution_count": 85,
   "metadata": {},
   "outputs": [],
   "source": [
    "obja = android()"
   ]
  },
  {
   "cell_type": "code",
   "execution_count": 86,
   "metadata": {},
   "outputs": [
    {
     "name": "stdout",
     "output_type": "stream",
     "text": [
      "open source & free\n"
     ]
    }
   ],
   "source": [
    "obja.free()"
   ]
  },
  {
   "cell_type": "code",
   "execution_count": 91,
   "metadata": {},
   "outputs": [],
   "source": [
    "class android(mobileOS, linux):\n",
    "    def popular(self):\n",
    "        print(\"quite popular\") "
   ]
  },
  {
   "cell_type": "code",
   "execution_count": 92,
   "metadata": {},
   "outputs": [
    {
     "name": "stdout",
     "output_type": "stream",
     "text": [
      "free but not open source\n"
     ]
    }
   ],
   "source": [
    "obja = android()\n",
    "obja.free()"
   ]
  },
  {
   "cell_type": "code",
   "execution_count": 93,
   "metadata": {},
   "outputs": [],
   "source": [
    "class __unix():\n",
    "    def cmd(self):\n",
    "        print(\"great command line\")\n",
    "    \n",
    "    def secure(self):\n",
    "        print(\"rwx makes it secure\")\n",
    "        \n",
    "class linux(__unix):   \n",
    "    def free(self):\n",
    "        print(\"open source & free\")"
   ]
  },
  {
   "cell_type": "code",
   "execution_count": 94,
   "metadata": {},
   "outputs": [],
   "source": [
    "objl = linux()"
   ]
  },
  {
   "cell_type": "code",
   "execution_count": 95,
   "metadata": {},
   "outputs": [
    {
     "name": "stdout",
     "output_type": "stream",
     "text": [
      "great command line\n"
     ]
    }
   ],
   "source": [
    "objl.cmd()"
   ]
  },
  {
   "cell_type": "markdown",
   "metadata": {},
   "source": [
    "#### self with args"
   ]
  },
  {
   "cell_type": "code",
   "execution_count": 76,
   "metadata": {},
   "outputs": [],
   "source": [
    "class windows:\n",
    "    def __init__(self, vala=0, *args):\n",
    "        self.data_a =  vala\n",
    "        self.data_b =  args\n",
    "    \n",
    "    def display(self):\n",
    "        print(\"data a =\", self.data_a)\n",
    "        print(\"data b =\", self.data_b)"
   ]
  },
  {
   "cell_type": "code",
   "execution_count": 72,
   "metadata": {},
   "outputs": [],
   "source": [
    "objw = windows(67, 100, 200, 300)"
   ]
  },
  {
   "cell_type": "code",
   "execution_count": 73,
   "metadata": {},
   "outputs": [
    {
     "name": "stdout",
     "output_type": "stream",
     "text": [
      "data a = 67\n",
      "data a = (100, 200, 300)\n"
     ]
    }
   ],
   "source": [
    "objw.display()"
   ]
  },
  {
   "cell_type": "code",
   "execution_count": 77,
   "metadata": {},
   "outputs": [],
   "source": [
    "objw = windows(67)"
   ]
  },
  {
   "cell_type": "code",
   "execution_count": 78,
   "metadata": {},
   "outputs": [
    {
     "name": "stdout",
     "output_type": "stream",
     "text": [
      "data a = 67\n",
      "data b = ()\n"
     ]
    }
   ],
   "source": [
    "objw.display()"
   ]
  },
  {
   "cell_type": "markdown",
   "metadata": {},
   "source": [
    "### operator overloading"
   ]
  },
  {
   "cell_type": "code",
   "execution_count": 96,
   "metadata": {},
   "outputs": [],
   "source": [
    "# polymorphism "
   ]
  },
  {
   "cell_type": "code",
   "execution_count": 97,
   "metadata": {},
   "outputs": [
    {
     "data": {
      "text/plain": [
       "10"
      ]
     },
     "execution_count": 97,
     "metadata": {},
     "output_type": "execute_result"
    }
   ],
   "source": [
    "4 + 6"
   ]
  },
  {
   "cell_type": "code",
   "execution_count": 98,
   "metadata": {},
   "outputs": [
    {
     "data": {
      "text/plain": [
       "'hiyi'"
      ]
     },
     "execution_count": 98,
     "metadata": {},
     "output_type": "execute_result"
    }
   ],
   "source": [
    "\"hi\" + \"yi\""
   ]
  },
  {
   "cell_type": "code",
   "execution_count": 99,
   "metadata": {},
   "outputs": [
    {
     "data": {
      "text/plain": [
       "[3, 4, 5, 1, 2, 3]"
      ]
     },
     "execution_count": 99,
     "metadata": {},
     "output_type": "execute_result"
    }
   ],
   "source": [
    "[3, 4, 5] + [1, 2, 3]"
   ]
  },
  {
   "cell_type": "code",
   "execution_count": 100,
   "metadata": {},
   "outputs": [
    {
     "ename": "TypeError",
     "evalue": "unsupported operand type(s) for +: 'set' and 'set'",
     "output_type": "error",
     "traceback": [
      "\u001b[0;31m---------------------------------------------------------------------------\u001b[0m",
      "\u001b[0;31mTypeError\u001b[0m                                 Traceback (most recent call last)",
      "\u001b[0;32m<ipython-input-100-449d187c54c9>\u001b[0m in \u001b[0;36m<module>\u001b[0;34m\u001b[0m\n\u001b[0;32m----> 1\u001b[0;31m \u001b[0;34m{\u001b[0m\u001b[0;36m3\u001b[0m\u001b[0;34m,\u001b[0m \u001b[0;36m4\u001b[0m\u001b[0;34m,\u001b[0m \u001b[0;36m5\u001b[0m\u001b[0;34m}\u001b[0m \u001b[0;34m+\u001b[0m \u001b[0;34m{\u001b[0m\u001b[0;36m1\u001b[0m\u001b[0;34m,\u001b[0m \u001b[0;36m2\u001b[0m\u001b[0;34m,\u001b[0m \u001b[0;36m3\u001b[0m\u001b[0;34m}\u001b[0m\u001b[0;34m\u001b[0m\u001b[0;34m\u001b[0m\u001b[0m\n\u001b[0m",
      "\u001b[0;31mTypeError\u001b[0m: unsupported operand type(s) for +: 'set' and 'set'"
     ]
    }
   ],
   "source": [
    "{3, 4, 5} + {1, 2, 3}"
   ]
  },
  {
   "cell_type": "code",
   "execution_count": 101,
   "metadata": {},
   "outputs": [
    {
     "data": {
      "text/plain": [
       "{4, 5}"
      ]
     },
     "execution_count": 101,
     "metadata": {},
     "output_type": "execute_result"
    }
   ],
   "source": [
    "{3, 4, 5} - {1, 2, 3}"
   ]
  },
  {
   "cell_type": "markdown",
   "metadata": {},
   "source": [
    "2.5 + 7.4 (overs)"
   ]
  },
  {
   "cell_type": "code",
   "execution_count": 102,
   "metadata": {},
   "outputs": [],
   "source": [
    "class time:\n",
    "    def __init__(self, h=0, m=0):\n",
    "        self.hours = h\n",
    "        self.minutes = m\n",
    "        \n",
    "    def display(self):\n",
    "        print(self.hours, \"and\", self.minutes, \"minutes\")"
   ]
  },
  {
   "cell_type": "code",
   "execution_count": 104,
   "metadata": {},
   "outputs": [],
   "source": [
    "first = time(1, 30)\n",
    "second = time(1, 45)\n",
    "total = time()"
   ]
  },
  {
   "cell_type": "code",
   "execution_count": 105,
   "metadata": {},
   "outputs": [
    {
     "ename": "TypeError",
     "evalue": "unsupported operand type(s) for +: 'time' and 'time'",
     "output_type": "error",
     "traceback": [
      "\u001b[0;31m---------------------------------------------------------------------------\u001b[0m",
      "\u001b[0;31mTypeError\u001b[0m                                 Traceback (most recent call last)",
      "\u001b[0;32m<ipython-input-105-d787e94ab564>\u001b[0m in \u001b[0;36m<module>\u001b[0;34m\u001b[0m\n\u001b[0;32m----> 1\u001b[0;31m \u001b[0mtotal\u001b[0m \u001b[0;34m=\u001b[0m \u001b[0mfirst\u001b[0m \u001b[0;34m+\u001b[0m \u001b[0msecond\u001b[0m\u001b[0;34m\u001b[0m\u001b[0;34m\u001b[0m\u001b[0m\n\u001b[0m",
      "\u001b[0;31mTypeError\u001b[0m: unsupported operand type(s) for +: 'time' and 'time'"
     ]
    }
   ],
   "source": [
    "total = first + second"
   ]
  },
  {
   "cell_type": "code",
   "execution_count": 109,
   "metadata": {},
   "outputs": [],
   "source": [
    "class time:\n",
    "    def __init__(self, h=0, m=0):\n",
    "        self.hours = h\n",
    "        self.minutes = m\n",
    "        \n",
    "    def display(self):\n",
    "        print(self.hours, \"hours and\", self.minutes, \"minutes\")\n",
    "        \n",
    "    def __add__(self, other):\n",
    "        min1 = self.hours * 60 + self.minutes\n",
    "        min2 = other.hours * 60 + other.minutes\n",
    "        min3 = min1 + min2\n",
    "        \n",
    "        temp = time()\n",
    "        temp.hours = min3//60\n",
    "        temp.minutes = min3%60\n",
    "        \n",
    "        return temp"
   ]
  },
  {
   "cell_type": "code",
   "execution_count": 110,
   "metadata": {},
   "outputs": [],
   "source": [
    "first = time(1, 30)\n",
    "second = time(1, 45)\n",
    "total = time()"
   ]
  },
  {
   "cell_type": "code",
   "execution_count": 111,
   "metadata": {},
   "outputs": [
    {
     "name": "stdout",
     "output_type": "stream",
     "text": [
      "1 hours and 30 minutes\n"
     ]
    }
   ],
   "source": [
    "first.display()"
   ]
  },
  {
   "cell_type": "code",
   "execution_count": 112,
   "metadata": {},
   "outputs": [],
   "source": [
    "total = first + second "
   ]
  },
  {
   "cell_type": "code",
   "execution_count": 113,
   "metadata": {},
   "outputs": [
    {
     "name": "stdout",
     "output_type": "stream",
     "text": [
      "3 hours and 15 minutes\n"
     ]
    }
   ],
   "source": [
    "total.display()"
   ]
  },
  {
   "cell_type": "code",
   "execution_count": 114,
   "metadata": {},
   "outputs": [],
   "source": [
    "third = time(1, 10)"
   ]
  },
  {
   "cell_type": "code",
   "execution_count": 115,
   "metadata": {},
   "outputs": [],
   "source": [
    "total = first + second + third"
   ]
  },
  {
   "cell_type": "code",
   "execution_count": 116,
   "metadata": {},
   "outputs": [
    {
     "name": "stdout",
     "output_type": "stream",
     "text": [
      "4 hours and 25 minutes\n"
     ]
    }
   ],
   "source": [
    "total.display()"
   ]
  },
  {
   "cell_type": "code",
   "execution_count": 117,
   "metadata": {},
   "outputs": [],
   "source": [
    "# BEDMAS"
   ]
  },
  {
   "cell_type": "code",
   "execution_count": 118,
   "metadata": {},
   "outputs": [
    {
     "ename": "TypeError",
     "evalue": "'<' not supported between instances of 'time' and 'time'",
     "output_type": "error",
     "traceback": [
      "\u001b[0;31m---------------------------------------------------------------------------\u001b[0m",
      "\u001b[0;31mTypeError\u001b[0m                                 Traceback (most recent call last)",
      "\u001b[0;32m<ipython-input-118-7608f3b47b8e>\u001b[0m in \u001b[0;36m<module>\u001b[0;34m\u001b[0m\n\u001b[0;32m----> 1\u001b[0;31m \u001b[0mfirst\u001b[0m \u001b[0;34m<\u001b[0m \u001b[0msecond\u001b[0m\u001b[0;34m\u001b[0m\u001b[0;34m\u001b[0m\u001b[0m\n\u001b[0m",
      "\u001b[0;31mTypeError\u001b[0m: '<' not supported between instances of 'time' and 'time'"
     ]
    }
   ],
   "source": [
    "first < second"
   ]
  },
  {
   "cell_type": "code",
   "execution_count": 119,
   "metadata": {},
   "outputs": [],
   "source": [
    "class time:\n",
    "    def __init__(self, h=0, m=0):\n",
    "        self.hours = h\n",
    "        self.minutes = m\n",
    "        \n",
    "    def display(self):\n",
    "        print(self.hours, \"hours and\", self.minutes, \"minutes\")\n",
    "        \n",
    "    def __add__(self, other):\n",
    "        min1 = self.hours * 60 + self.minutes\n",
    "        min2 = other.hours * 60 + other.minutes\n",
    "        min3 = min1 + min2\n",
    "        \n",
    "        temp = time()\n",
    "        temp.hours = min3//60\n",
    "        temp.minutes = min3%60\n",
    "        \n",
    "        return temp\n",
    "    \n",
    "    def __lt__(self, other):\n",
    "        min1 = self.hours * 60 + self.minutes\n",
    "        min2 = other.hours * 60 + other.minutes\n",
    "        if min1 < min2:\n",
    "            return True\n",
    "        else:\n",
    "            return False"
   ]
  },
  {
   "cell_type": "code",
   "execution_count": 120,
   "metadata": {},
   "outputs": [],
   "source": [
    "first = time(1, 30)\n",
    "second = time(1, 45)\n",
    "total = time()"
   ]
  },
  {
   "cell_type": "code",
   "execution_count": 121,
   "metadata": {},
   "outputs": [
    {
     "data": {
      "text/plain": [
       "True"
      ]
     },
     "execution_count": 121,
     "metadata": {},
     "output_type": "execute_result"
    }
   ],
   "source": [
    "first < second"
   ]
  },
  {
   "cell_type": "code",
   "execution_count": 124,
   "metadata": {},
   "outputs": [
    {
     "name": "stdout",
     "output_type": "stream",
     "text": [
      "Help on method __add__ in module __main__:\n",
      "\n",
      "__add__(other) method of __main__.time instance\n",
      "\n"
     ]
    }
   ],
   "source": [
    "help(first.__add__)"
   ]
  },
  {
   "cell_type": "markdown",
   "metadata": {},
   "source": [
    "#### specail methods"
   ]
  },
  {
   "cell_type": "code",
   "execution_count": 125,
   "metadata": {},
   "outputs": [],
   "source": [
    "class sample:\n",
    "    x = 0\n",
    "    \n",
    "    def funca(self, val):\n",
    "        print(\"in a\")\n",
    "        self.x = val\n",
    "        \n",
    "    def funcb(self, val):\n",
    "        print(\"in b\")\n",
    "        self.x = val\n",
    "    \n",
    "    def funcc():\n",
    "        print(\"in c\")"
   ]
  },
  {
   "cell_type": "code",
   "execution_count": 126,
   "metadata": {},
   "outputs": [],
   "source": [
    "objs = sample()"
   ]
  },
  {
   "cell_type": "code",
   "execution_count": 128,
   "metadata": {},
   "outputs": [
    {
     "data": {
      "text/plain": [
       "0"
      ]
     },
     "execution_count": 128,
     "metadata": {},
     "output_type": "execute_result"
    }
   ],
   "source": [
    "objs.x"
   ]
  },
  {
   "cell_type": "code",
   "execution_count": 129,
   "metadata": {},
   "outputs": [
    {
     "name": "stdout",
     "output_type": "stream",
     "text": [
      "in a\n"
     ]
    }
   ],
   "source": [
    "objs.funca(100)"
   ]
  },
  {
   "cell_type": "code",
   "execution_count": 130,
   "metadata": {},
   "outputs": [
    {
     "data": {
      "text/plain": [
       "100"
      ]
     },
     "execution_count": 130,
     "metadata": {},
     "output_type": "execute_result"
    }
   ],
   "source": [
    "objs.x"
   ]
  },
  {
   "cell_type": "code",
   "execution_count": 137,
   "metadata": {},
   "outputs": [],
   "source": [
    "class sample:\n",
    "    x = 0\n",
    "    \n",
    "    def funca(self, val):\n",
    "        print(\"in a\")\n",
    "        self.x = val\n",
    "    \n",
    "    @classmethod\n",
    "    def funcb(cls, val):\n",
    "        print(\"in b\")\n",
    "        cls.x = val\n",
    "    \n",
    "    @staticmethod\n",
    "    def funcc():\n",
    "        print(\"in c\") "
   ]
  },
  {
   "cell_type": "code",
   "execution_count": 132,
   "metadata": {},
   "outputs": [],
   "source": [
    "objs = sample()"
   ]
  },
  {
   "cell_type": "code",
   "execution_count": 133,
   "metadata": {},
   "outputs": [
    {
     "name": "stdout",
     "output_type": "stream",
     "text": [
      "in b\n"
     ]
    }
   ],
   "source": [
    "objs.funcb(100)"
   ]
  },
  {
   "cell_type": "code",
   "execution_count": 134,
   "metadata": {},
   "outputs": [
    {
     "data": {
      "text/plain": [
       "100"
      ]
     },
     "execution_count": 134,
     "metadata": {},
     "output_type": "execute_result"
    }
   ],
   "source": [
    "objs.x"
   ]
  },
  {
   "cell_type": "code",
   "execution_count": 135,
   "metadata": {},
   "outputs": [],
   "source": [
    "objt = sample()"
   ]
  },
  {
   "cell_type": "code",
   "execution_count": 136,
   "metadata": {},
   "outputs": [
    {
     "data": {
      "text/plain": [
       "100"
      ]
     },
     "execution_count": 136,
     "metadata": {},
     "output_type": "execute_result"
    }
   ],
   "source": [
    "objt.x"
   ]
  },
  {
   "cell_type": "code",
   "execution_count": 138,
   "metadata": {},
   "outputs": [],
   "source": [
    "class sample:\n",
    "    x = 0\n",
    "    \n",
    "    def funca(self, val):\n",
    "        print(\"in a\")\n",
    "        self.x = val\n",
    "    \n",
    "    @classmethod\n",
    "    def funcb(cls, val):\n",
    "        print(\"in b\")\n",
    "        cls.x = val\n",
    "    \n",
    "    @staticmethod\n",
    "    def funcc():\n",
    "        print(\"in c\") "
   ]
  },
  {
   "cell_type": "code",
   "execution_count": 139,
   "metadata": {},
   "outputs": [],
   "source": [
    "objs = sample() "
   ]
  },
  {
   "cell_type": "code",
   "execution_count": 140,
   "metadata": {},
   "outputs": [
    {
     "name": "stdout",
     "output_type": "stream",
     "text": [
      "in c\n"
     ]
    }
   ],
   "source": [
    "objs.funcc()"
   ]
  },
  {
   "cell_type": "code",
   "execution_count": null,
   "metadata": {},
   "outputs": [],
   "source": []
  }
 ],
 "metadata": {
  "kernelspec": {
   "display_name": "Python 3",
   "language": "python",
   "name": "python3"
  },
  "language_info": {
   "codemirror_mode": {
    "name": "ipython",
    "version": 3
   },
   "file_extension": ".py",
   "mimetype": "text/x-python",
   "name": "python",
   "nbconvert_exporter": "python",
   "pygments_lexer": "ipython3",
   "version": "3.7.7"
  }
 },
 "nbformat": 4,
 "nbformat_minor": 4
}
